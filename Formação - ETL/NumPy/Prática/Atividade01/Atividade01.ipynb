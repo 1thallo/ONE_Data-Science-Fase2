{
 "cells": [
  {
   "cell_type": "code",
   "execution_count": 10,
   "id": "2c9107d9",
   "metadata": {},
   "outputs": [
    {
     "data": {
      "text/plain": [
       "array([[  2.96,  86.76, 172.  ,  85.  ,   2.  ],\n",
       "       [  3.91,  88.05, 166.  ,  78.  ,   3.  ],\n",
       "       [  4.42,  95.17, 156.  ,  81.  ,   2.  ],\n",
       "       ...,\n",
       "       [ 15.59, 256.5 , 168.  ,  82.  ,  20.  ],\n",
       "       [ 15.92, 260.14, 142.  ,  72.  ,  11.  ],\n",
       "       [ 16.45, 261.51, 152.  ,  74.  ,   2.  ]], shape=(10000, 5))"
      ]
     },
     "execution_count": 10,
     "metadata": {},
     "output_type": "execute_result"
    }
   ],
   "source": [
    "import numpy as np\n",
    "\n",
    "dados = np.loadtxt('citrus.csv', delimiter=',', usecols=np.arange(1,6,1), skiprows=1)\n",
    "\n",
    "dados"
   ]
  }
 ],
 "metadata": {
  "kernelspec": {
   "display_name": ".venv",
   "language": "python",
   "name": "python3"
  },
  "language_info": {
   "codemirror_mode": {
    "name": "ipython",
    "version": 3
   },
   "file_extension": ".py",
   "mimetype": "text/x-python",
   "name": "python",
   "nbconvert_exporter": "python",
   "pygments_lexer": "ipython3",
   "version": "3.13.2"
  }
 },
 "nbformat": 4,
 "nbformat_minor": 5
}
