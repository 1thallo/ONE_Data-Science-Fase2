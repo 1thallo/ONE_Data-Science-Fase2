{
  "cells": [
    {
      "cell_type": "markdown",
      "metadata": {
        "id": "view-in-github",
        "colab_type": "text"
      },
      "source": [
        "<a href=\"https://colab.research.google.com/github/1thallo/Oracle_Next_Education-Fase2/blob/main/Forma%C3%A7%C3%A3o%20-%20Modelagem%20de%20Dados%20com%20Python/Python%20para%20Data%20Science/Fun%C3%A7%C3%B5es%2C%20Estruturas%20de%20Dados%20e%20Exce%C3%A7%C3%B5es/3.%20Estruturas%20de%20dados/3_Hora_da_pr%C3%A1tica.ipynb\" target=\"_parent\"><img src=\"https://colab.research.google.com/assets/colab-badge.svg\" alt=\"Open In Colab\"/></a>"
      ]
    },
    {
      "cell_type": "markdown",
      "id": "2cf57f4b",
      "metadata": {
        "id": "2cf57f4b"
      },
      "source": [
        "# Sobre o notebook\n",
        "\n",
        "A \"hora da prática\" é uma atividade do curso de Python para Data Science da Alura que contém diversos desafios envolvendo os aprendizados de cada aula.\n",
        "\n",
        "O notebook \"hora da prática\" é um notebook construído com espaço para as células dos desafios propostos no curso, com ele você tem espaço para construir e executar suas soluções"
      ]
    },
    {
      "cell_type": "markdown",
      "id": "2f9b41ae",
      "metadata": {
        "id": "2f9b41ae"
      },
      "source": [
        "## Aula 3 - Estrutura de dados compostas"
      ]
    },
    {
      "cell_type": "markdown",
      "id": "1cc6c777",
      "metadata": {
        "id": "1cc6c777"
      },
      "source": [
        "### Aquecimento"
      ]
    },
    {
      "cell_type": "markdown",
      "id": "e7a5ddd5",
      "metadata": {
        "id": "e7a5ddd5"
      },
      "source": [
        "#### Questão 1\n",
        "\n",
        "Crie um código para imprimir a soma dos elementos de cada uma das listas contidas na seguinte lista:\n",
        "```\n",
        "lista_de_listas = [[4,6,5,9], [1,0,7,2], [3,4,1,8]]\n",
        "```"
      ]
    },
    {
      "cell_type": "code",
      "execution_count": null,
      "id": "2b542c44",
      "metadata": {
        "id": "2b542c44",
        "outputId": "ee7c9f82-591b-4f04-8e8e-4f305b4e3f98"
      },
      "outputs": [
        {
          "name": "stdout",
          "output_type": "stream",
          "text": [
            "    LISTAS   |  SOMAS\n",
            "------------------------\n",
            "[4, 6, 5, 9] |   24\n",
            "[1, 0, 7, 2] |   10\n",
            "[3, 4, 1, 8] |   16\n"
          ]
        }
      ],
      "source": [
        "lista_de_listas = [[4,6,5,9], [1,0,7,2], [3,4,1,8]]\n",
        "\n",
        "lista1, lista2, lista3 = sum(lista_de_listas[0]), sum(lista_de_listas[1]), sum(lista_de_listas[2])\n",
        "\n",
        "print(f\"\"\"    LISTAS   |  SOMAS\n",
        "------------------------\n",
        "{lista_de_listas[0]} |   {lista1}\\n{lista_de_listas[1]} |   {lista2}\\n{lista_de_listas[2]} |   {lista3}\"\"\")"
      ]
    },
    {
      "cell_type": "markdown",
      "id": "70eb03bf",
      "metadata": {
        "id": "70eb03bf"
      },
      "source": [
        "#### Questão 2\n",
        "\n",
        "Crie um código para gerar uma lista que armazena o terceiro elemento de cada tupla contida na seguinte lista de tuplas:\n",
        "```\n",
        "lista_de_tuplas = [('Pedro', 1.74, 81), ('Júlia', 1.65, 67), ('Otávio', 1.81, 83)]\n",
        "```"
      ]
    },
    {
      "cell_type": "code",
      "execution_count": null,
      "id": "26e137f4",
      "metadata": {
        "colab": {
          "base_uri": "https://localhost:8080/"
        },
        "id": "26e137f4",
        "outputId": "73d666d9-076d-4db5-8d83-1f7d12b9efa2"
      },
      "outputs": [
        {
          "output_type": "stream",
          "name": "stdout",
          "text": [
            "Lista de elementos: [81, 67, 83]\n"
          ]
        }
      ],
      "source": [
        "lista_de_tuplas = [('Pedro', 1.74, 81), ('Júlia', 1.65, 67), ('Otávio', 1.81, 83)]\n",
        "lista_elemento_3 = [elemento[2] for elemento in lista_de_tuplas]\n",
        "\n",
        "print(f\"Lista de elementos: {lista_elemento_3}\")"
      ]
    },
    {
      "cell_type": "markdown",
      "id": "9cc389d3",
      "metadata": {
        "id": "9cc389d3"
      },
      "source": [
        "#### Questão 3\n",
        "A partir da lista: `lista = ['Pedro', 'Júlia', 'Otávio', 'Eduardo']`, crie um código para gerar uma lista de tuplas em que cada tupla tenha o primeiro elemento como a posição do nome na lista original e o segundo elemento sendo o próprio nome."
      ]
    },
    {
      "cell_type": "code",
      "execution_count": null,
      "id": "5613d2d7",
      "metadata": {
        "colab": {
          "base_uri": "https://localhost:8080/"
        },
        "id": "5613d2d7",
        "outputId": "fb98bceb-9ff4-4d36-e6be-ffb3144c57f5"
      },
      "outputs": [
        {
          "output_type": "stream",
          "name": "stdout",
          "text": [
            "Lista com posições: [(1, 'Pedro'), (2, 'Júlia'), (3, 'Otávio'), (4, 'Eduardo')]\n"
          ]
        }
      ],
      "source": [
        "lista = ['Pedro', 'Júlia', 'Otávio', 'Eduardo']\n",
        "\n",
        "lista_nova = list(enumerate(lista, 1)) # enumerate() do DataCamp python, lembrei☝️🥸\n",
        "print(f\"Lista com posições: {lista_nova}\")"
      ]
    },
    {
      "cell_type": "markdown",
      "id": "6b61148d",
      "metadata": {
        "id": "6b61148d"
      },
      "source": [
        "#### Questão 4\n",
        "Crie uma lista usando o list comprehension, que armazena somente o valor numérico de cada tupla caso o primeiro elemento seja 'Apartamento' a partir da seguinte lista de tuplas:\n",
        "```\n",
        "aluguel = [('Apartamento', 1700), ('Apartamento', 1400), ('Casa', 2150), ('Apartamento', 1900), ('Casa', 1100)]\n",
        "```\n",
        "\n"
      ]
    },
    {
      "cell_type": "code",
      "execution_count": null,
      "id": "6dde03ed",
      "metadata": {
        "colab": {
          "base_uri": "https://localhost:8080/"
        },
        "id": "6dde03ed",
        "outputId": "089ebe75-a206-41d1-a3dc-9dc6b5b6fb16"
      },
      "outputs": [
        {
          "output_type": "stream",
          "name": "stdout",
          "text": [
            " -------- Valores do aluguel --------\n",
            "\n",
            "Apartamentos: [1700, 1400, 1900]\n",
            "Casas: [2150, 1100]\n",
            "\n"
          ]
        }
      ],
      "source": [
        "aluguel = [('Apartamento', 1700), ('Apartamento', 1400), ('Casa', 2150), ('Apartamento', 1900), ('Casa', 1100)]\n",
        "\n",
        "lista_apartamento = [ap[1] for ap in aluguel if ap[0] == 'Apartamento']\n",
        "lista_casa = [casa[1] for casa in aluguel if casa[0] == 'Casa']\n",
        "\n",
        "print(f\"\"\" -------- Valores do aluguel --------\n",
        "\n",
        "Apartamentos: {lista_apartamento}\n",
        "Casas: {lista_casa}\n",
        "\"\"\")"
      ]
    },
    {
      "cell_type": "markdown",
      "id": "5059c22c",
      "metadata": {
        "id": "5059c22c"
      },
      "source": [
        "#### Questão 5\n",
        "\n",
        "Crie um dicionário usando o dict comprehension em que as chaves estão na lista `meses = ['Jan', 'Fev', 'Mar', 'Abr', 'Mai', 'Jun', 'Jul', 'Ago', 'Set', 'Out', 'Nov', 'Dez']` e os valores estão na lista `despesa = [860, 490, 1010, 780, 900, 630, 590, 770, 620, 560, 840, 360]`\n",
        "\n"
      ]
    },
    {
      "cell_type": "code",
      "execution_count": null,
      "id": "b98658f2",
      "metadata": {
        "colab": {
          "base_uri": "https://localhost:8080/"
        },
        "id": "b98658f2",
        "outputId": "b7bab82d-b083-44a3-ec49-ef76ca480ab1"
      },
      "outputs": [
        {
          "output_type": "stream",
          "name": "stdout",
          "text": [
            " -------- Despesas do ano --------\n",
            "{'Jan': 860, 'Fev': 490, 'Mar': 1010, 'Abr': 780, 'Mai': 900, 'Jun': 630, 'Jul': 590, 'Ago': 770, 'Set': 620, 'Out': 560, 'Nov': 840, 'Dez': 360}\n",
            "\n"
          ]
        }
      ],
      "source": [
        "meses = ['Jan', 'Fev', 'Mar', 'Abr', 'Mai', 'Jun', 'Jul', 'Ago', 'Set', 'Out', 'Nov', 'Dez']\n",
        "despesas = [860, 490, 1010, 780, 900, 630, 590, 770, 620, 560, 840, 360]\n",
        "\n",
        "dict_mes_dispesa = {mes: despesa for mes, despesa in list(zip(meses, despesas))}\n",
        "\n",
        "print(f\"\"\" -------- Despesas do ano --------\n",
        "{dict_mes_dispesa}\n",
        "\"\"\")"
      ]
    },
    {
      "cell_type": "markdown",
      "id": "5c6be298",
      "metadata": {
        "id": "5c6be298"
      },
      "source": [
        "### Aplicando a projetos"
      ]
    },
    {
      "cell_type": "markdown",
      "id": "c823bf3c",
      "metadata": {
        "id": "c823bf3c"
      },
      "source": [
        "#### Questão 6\n",
        "\n",
        "Uma loja possui um banco de dados com a informação de venda de cada representante e de cada ano e precisa filtrar somente os dados do ano 2022 com venda maior do que 6000. A loja forneceu uma amostra contendo apenas as colunas com os anos e os valores de venda para que você ajude a realizar a filtragem dos dados a partir de um código:\n",
        "```\n",
        "vendas = [('2023', 4093), ('2021', 4320), ('2021', 5959), ('2022', 8883), ('2023', 9859), ('2022', 5141), ('2022', 7688), ('2022', 9544), ('2023', 4794), ('2021', 7178), ('2022', 3030), ('2021', 7471), ('2022', 4226), ('2022', 8190), ('2021', 9680), ('2022', 5616)]\n",
        "```\n",
        "Crie uma lista usando list comprehension para filtrar os valores de 2022 e que sejam maiores que 6000.\n"
      ]
    },
    {
      "cell_type": "code",
      "execution_count": null,
      "id": "c728ce6a",
      "metadata": {
        "id": "c728ce6a",
        "outputId": "a43bb15a-7099-4ba6-b728-de161bd37066",
        "colab": {
          "base_uri": "https://localhost:8080/"
        }
      },
      "outputs": [
        {
          "output_type": "stream",
          "name": "stdout",
          "text": [
            "-------- Vendas Filtradas --------\n",
            "\n",
            "ANO  | VALOR\n",
            "-------------\n",
            "2022 | 7688\n",
            "2022 | 8190\n",
            "2022 | 8883\n",
            "2022 | 9544\n"
          ]
        }
      ],
      "source": [
        "vendas = [('2023', 4093), ('2021', 4320), ('2021', 5959), ('2022', 8883), ('2023', 9859), ('2022', 5141),\n",
        "          ('2022', 7688), ('2022', 9544), ('2023', 4794), ('2021', 7178), ('2022', 3030), ('2021', 7471),\n",
        "          ('2022', 4226), ('2022', 8190), ('2021', 9680), ('2022', 5616)]\n",
        "\n",
        "# Filtra somente vendas de 2022 com valor > 6000\n",
        "filtro = [venda for venda in vendas if venda[0] == '2022' and venda[1] > 6000]\n",
        "\n",
        "# Ordena pelo indice 1\n",
        "filtro_ordenado = sorted(filtro, key=lambda x: x[1])\n",
        "\n",
        "# Impressão formatada\n",
        "print(f\"\"\"-------- Vendas Filtradas --------\n",
        "\n",
        "ANO  | VALOR\n",
        "-------------\"\"\")\n",
        "for ano, valor in filtro_ordenado:\n",
        "    print(f\"{ano} | {valor}\")"
      ]
    },
    {
      "cell_type": "markdown",
      "id": "2ef5d7eb",
      "metadata": {
        "id": "2ef5d7eb"
      },
      "source": [
        "#### Questão 7\n",
        "\n",
        "Uma clínica analisa dados de pacientes e armazena o valor numérico da glicose em um banco de dados e gostaria de rotular os dados da seguinte maneira:\n",
        "\n",
        "- Glicose igual ou inferior a 70: 'Hipoglicemia'\n",
        "- Glicose entre 70 a 99: 'Normal'\n",
        "- Glicose entre 100 e 125: 'Alterada'\n",
        "- Glicose superior a 125: 'Diabetes'\n",
        "\n",
        "A clínica disponibilizou parte dos valores e sua tarefa é criar uma lista de tuplas usando list comprehension contendo o rótulo e o valor da glicemia em cada tupla.\n",
        "\n",
        "```\n",
        "glicemia = [129, 82, 60, 97, 101, 65, 62, 167, 87, 53, 58, 92, 66, 120, 109, 62, 86, 96, 103, 88, 155, 52, 89, 73]\n",
        "```"
      ]
    },
    {
      "cell_type": "code",
      "execution_count": null,
      "id": "7d98971a",
      "metadata": {
        "id": "7d98971a",
        "outputId": "91d8f10d-6692-42ac-9266-e20946458e28",
        "colab": {
          "base_uri": "https://localhost:8080/"
        }
      },
      "outputs": [
        {
          "output_type": "stream",
          "name": "stdout",
          "text": [
            "129 -> Diabetes\n",
            "82 -> Normal\n",
            "60 -> Hipoglicemia\n",
            "97 -> Normal\n",
            "101 -> Alterada\n",
            "65 -> Hipoglicemia\n",
            "62 -> Hipoglicemia\n",
            "167 -> Diabetes\n",
            "87 -> Normal\n",
            "53 -> Hipoglicemia\n",
            "58 -> Hipoglicemia\n",
            "92 -> Normal\n",
            "66 -> Hipoglicemia\n",
            "120 -> Alterada\n",
            "109 -> Alterada\n",
            "62 -> Hipoglicemia\n",
            "86 -> Normal\n",
            "96 -> Normal\n",
            "103 -> Alterada\n",
            "88 -> Normal\n",
            "155 -> Diabetes\n",
            "52 -> Hipoglicemia\n",
            "89 -> Normal\n",
            "73 -> Normal\n"
          ]
        }
      ],
      "source": [
        "glicemia = [129, 82, 60, 97, 101, 65, 62, 167, 87, 53, 58, 92,\n",
        "            66, 120, 109, 62, 86, 96, 103, 88, 155, 52, 89, 73]\n",
        "\n",
        "rotulo_valor = [('Hipoglicemia' if valor <= 70 else 'Normal' if valor < 99 else 'Alterada' if valor < 125 else 'Diabetes', valor) for valor in glicemia]\n",
        "\n",
        "for rotulo, valor in rotulo_valor:\n",
        "    print(f\"{valor} -> {rotulo}\")"
      ]
    },
    {
      "cell_type": "markdown",
      "id": "4ce84801",
      "metadata": {
        "id": "4ce84801"
      },
      "source": [
        "#### Questão 8\n",
        "Um e-commerce possui as informações de id de venda, quantidade vendida e preço do produto divididos nas seguintes listas:\n",
        "\n",
        "```\n",
        "id = [0, 1, 2, 3, 4, 5, 6, 7, 8, 9]\n",
        "quantidade = [15, 12, 1, 15, 2, 11, 2, 12, 2, 4]\n",
        "preco = [93.0, 102.0, 18.0, 41.0, 122.0, 14.0, 71.0, 48.0, 14.0, 144.0]\n",
        "```\n",
        "\n",
        "O e-commerce precisa estruturar esses dados em uma tabela contendo o valor total da venda, que é obtida multiplicando a quantidade pelo preço unitário. Além disso, tabela precisa conter um cabeçalho indicando as colunas: 'id', 'quantidade', 'preco' e 'total'.\n",
        "\n",
        "Crie uma lista de tuplas em que cada tupla tenha um id, quantidade, preço e valor total, na qual a primeira tupla é o cabeçalho da tabela.\n"
      ]
    },
    {
      "cell_type": "code",
      "execution_count": 20,
      "id": "7a0b605d",
      "metadata": {
        "id": "7a0b605d",
        "outputId": "006157e8-f162-4145-8e77-d835c2116a9b",
        "colab": {
          "base_uri": "https://localhost:8080/"
        }
      },
      "outputs": [
        {
          "output_type": "stream",
          "name": "stdout",
          "text": [
            "-------- Tabela de Vendas --------\n",
            "id |  quantidade  |  preco  | total\n",
            "\n",
            "0  |  15  |  93.0  | 1395.00\n",
            "1  |  12  |  102.0  | 1224.00\n",
            "2  |  1  |  18.0  | 18.00\n",
            "3  |  15  |  41.0  | 615.00\n",
            "4  |  2  |  122.0  | 244.00\n",
            "5  |  11  |  14.0  | 154.00\n",
            "6  |  2  |  71.0  | 142.00\n",
            "7  |  12  |  48.0  | 576.00\n",
            "8  |  2  |  14.0  | 28.00\n",
            "9  |  4  |  144.0  | 576.00\n"
          ]
        }
      ],
      "source": [
        "id = [0, 1, 2, 3, 4, 5, 6, 7, 8, 9]\n",
        "quantidade = [15, 12, 1, 15, 2, 11, 2, 12, 2, 4]\n",
        "preco = [93.0, 102.0, 18.0, 41.0, 122.0, 14.0, 71.0, 48.0, 14.0, 144.0]\n",
        "total = [qtd * preco for qtd, preco in zip(quantidade, preco)]\n",
        "\n",
        "total_vendas = [('id', 'quantidade', 'preco', 'total')] + [\n",
        "                (id[i], quantidade[i], preco[i], total[i]) for i in range(len(id))]\n",
        "\n",
        "print(f\"-------- Tabela de Vendas --------\")\n",
        "for linha in total_vendas:\n",
        "  # verifica se é cabecalho\n",
        "  if linha[0] == 'id':\n",
        "    print(f\"{linha[0]} |  {linha[1]}  |  {linha[2]}  | {linha[3]}\\n\")\n",
        "  else:\n",
        "    # se não for, formata o valor total com .2f\n",
        "    print(f\"{linha[0]}  |  {linha[1]}  |  {linha[2]}  | {linha[3]:.2f}\")"
      ]
    },
    {
      "cell_type": "markdown",
      "id": "5a746866",
      "metadata": {
        "id": "5a746866"
      },
      "source": [
        "#### Questão 9\n",
        "\n",
        "Uma empresa possui filiais espalhadas nos estados da região sudeste do Brasil. Em uma das tabelas de cadastro das filiais, há uma coluna contendo a informação de qual é o estado a que pertence:\n",
        "```\n",
        "estados = ['SP', 'ES', 'MG', 'MG', 'SP', 'MG', 'ES', 'ES', 'ES', 'SP', 'SP', 'MG', 'ES', 'SP', 'RJ', 'MG', 'RJ', 'SP', 'MG', 'SP', 'ES', 'SP', 'MG']\n",
        "```\n",
        "\n",
        "A empresa sempre está abrindo novas filiais, de modo que a tabela está constantemente recebendo novos registros e o gestor gostaria de possuir a informação atualizada da quantidade de filiais em cada estado. A partir da coluna com a informação dos estados, crie um dicionário usando dict comprehension com a chave sendo o nome de um estado e o valor sendo a contagem de vezes em que o estado aparece na lista.\n",
        "\n",
        "> Dica: Você pode fazer um passo intermediário para gerar uma lista de listas em que cada uma das listas possui o nome de apenas um estado com valores repetidos."
      ]
    },
    {
      "cell_type": "code",
      "execution_count": 42,
      "id": "568c0b5b",
      "metadata": {
        "id": "568c0b5b",
        "outputId": "92513005-f73c-4ac1-cd62-072a3574cd97",
        "colab": {
          "base_uri": "https://localhost:8080/"
        }
      },
      "outputs": [
        {
          "output_type": "stream",
          "name": "stdout",
          "text": [
            " -------- Filiais --------\n",
            "Estados | Quantidade\n",
            "--------------------------\n",
            "   RJ   |  2\n",
            "   MG   |  7\n",
            "   ES   |  6\n",
            "   SP   |  8\n"
          ]
        }
      ],
      "source": [
        "estados = ['SP', 'ES', 'MG', 'MG', 'SP', 'MG', 'ES', 'ES', 'ES', 'SP', 'SP', 'MG', 'ES', 'SP', 'RJ', 'MG', 'RJ', 'SP', 'MG', 'SP', 'ES', 'SP', 'MG']\n",
        "\n",
        "dicionario = {estado: estados.count(estado) for estado in set(estados)}\n",
        "\n",
        "print(f\"\"\" -------- Filiais --------\n",
        "Estados | Quantidade\n",
        "--------------------------\"\"\")\n",
        "for estado, qtd in dicionario.items():\n",
        "  print(f\"   {estado}   |  {qtd}\")"
      ]
    },
    {
      "cell_type": "markdown",
      "id": "51328d2b",
      "metadata": {
        "id": "51328d2b"
      },
      "source": [
        "#### Questão 10\n",
        "\n",
        "Nessa mesma tabela de cadastro de filiais, há uma coluna com as informações da quantidade de funcionários e o gestor gostaria de ter um agrupamento da soma de funcionários para cada estado. As informações contidas na tabela são:\n",
        "\n",
        "```\n",
        "funcionarios = [('SP', 16), ('ES', 8), ('MG', 9), ('MG', 6), ('SP', 10), ('MG', 4), ('ES',9), ('ES', 7), ('ES', 12), ('SP', 7), ('SP', 11), ('MG',8), ('ES',8), ('SP',9), ('RJ', 13), ('MG', 5), ('RJ', 9), ('SP', 12), ('MG', 10), ('SP', 7), ('ES', 14), ('SP', 10), ('MG', 12)]\n",
        "```\n",
        "\n",
        "A partir da lista de tuplas, crie um dicionário em que as chaves são os nomes dos estados únicos e os valores são as listas com o número de funcionários referentes ao estado. Crie também um dicionário em que as chaves são os nomes dos estados e os valores são a soma de funcionários(as) por estado.\n",
        "\n",
        "> Dica: Você pode fazer um passo intermediário para gerar uma lista de listas em que cada uma das listas possui apenas os valores numéricos de funcionários de cada estado.\n"
      ]
    },
    {
      "cell_type": "code",
      "execution_count": 68,
      "id": "7798b2f5",
      "metadata": {
        "id": "7798b2f5",
        "outputId": "a9de3f1d-3c90-4124-e788-3fd30268b43b",
        "colab": {
          "base_uri": "https://localhost:8080/"
        }
      },
      "outputs": [
        {
          "output_type": "stream",
          "name": "stdout",
          "text": [
            "-------- Agrupamento por estado --------\n",
            "Estado: SP --> [16, 10, 7, 11, 9, 12, 7, 10]\n",
            "Estado: ES --> [8, 9, 7, 12, 8, 14]\n",
            "Estado: MG --> [9, 6, 4, 8, 5, 10, 12]\n",
            "Estado: RJ --> [13, 9]\n",
            "\n",
            "-------- Funcionários por estado --------\n",
            "SP tem 82 funcionários\n",
            "ES tem 58 funcionários\n",
            "MG tem 54 funcionários\n",
            "RJ tem 22 funcionários\n"
          ]
        }
      ],
      "source": [
        "funcionarios = [\n",
        "    ('SP', 16), ('ES', 8), ('MG', 9), ('MG', 6), ('SP', 10), ('MG', 4),\n",
        "    ('ES', 9), ('ES', 7), ('ES', 12), ('SP', 7), ('SP', 11), ('MG', 8),\n",
        "    ('ES', 8), ('SP', 9), ('RJ', 13), ('MG', 5), ('RJ', 9), ('SP', 12),\n",
        "    ('MG', 10), ('SP', 7), ('ES', 14), ('SP', 10), ('MG', 12)]\n",
        "\n",
        "agrupamento_por_estado = {}\n",
        "\n",
        "for estado, qtd in funcionarios:\n",
        "    if estado not in agrupamento_por_estado:\n",
        "        agrupamento_por_estado[estado] = []\n",
        "    agrupamento_por_estado[estado].append(qtd)\n",
        "\n",
        "soma_por_estado = {estado: sum(valores) for estado, valores in agrupamento_por_estado.items()}\n",
        "\n",
        "\n",
        "print(\"-------- Agrupamento por estado --------\")\n",
        "for estado, valores in agrupamento_por_estado.items():\n",
        "  print(f\"Estado: {estado} --> {valores}\")\n",
        "\n",
        "print(\"\\n-------- Funcionários por estado --------\")\n",
        "for estado, valor in soma_por_estado.items():\n",
        "  print(f\"{estado} tem {valor} funcionários\")\n"
      ]
    }
  ],
  "metadata": {
    "kernelspec": {
      "display_name": ".venv",
      "language": "python",
      "name": "python3"
    },
    "language_info": {
      "codemirror_mode": {
        "name": "ipython",
        "version": 3
      },
      "file_extension": ".py",
      "mimetype": "text/x-python",
      "name": "python",
      "nbconvert_exporter": "python",
      "pygments_lexer": "ipython3",
      "version": "3.13.2"
    },
    "colab": {
      "provenance": [],
      "include_colab_link": true
    }
  },
  "nbformat": 4,
  "nbformat_minor": 5
}