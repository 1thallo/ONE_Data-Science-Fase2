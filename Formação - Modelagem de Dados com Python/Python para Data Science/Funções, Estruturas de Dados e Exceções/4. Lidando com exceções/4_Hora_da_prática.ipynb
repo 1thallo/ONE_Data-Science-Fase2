{
 "cells": [
  {
   "cell_type": "markdown",
   "id": "6252f49c",
   "metadata": {},
   "source": [
    "## Aula 4 - Lidando com exceções"
   ]
  },
  {
   "cell_type": "markdown",
   "id": "37a7afba",
   "metadata": {},
   "source": [
    "### Aquecimento"
   ]
  },
  {
   "cell_type": "markdown",
   "id": "1213eadb",
   "metadata": {},
   "source": [
    "#### Questão 1\n",
    "\n",
    "Faça um programa que solicite à pessoa usuária digitar dois números `float` e calcular a divisão entre esses números. O código deve conter um tratamento de erro, indicando o tipo de erro que foi gerado caso a divisão não seja possível de realizar.\n",
    "\n",
    "Teste o programa com o segundo valor numérico do input igual a 0 e também teste utilizando caracteres textuais no input para checar os tipos de erro que ocorrem."
   ]
  },
  {
   "cell_type": "code",
   "execution_count": 10,
   "id": "7df717fd",
   "metadata": {},
   "outputs": [
    {
     "name": "stdout",
     "output_type": "stream",
     "text": [
      "ERRO 🚨: Impossível dividir por Zero\n",
      "\n",
      "ERRO 🚨: Insira valores númericos\n",
      "\n",
      "-------- Resultado --------\n",
      "10.0 dividido por 5.0 = 2.0\n"
     ]
    }
   ],
   "source": [
    "while 1 + 1 == 2:  #pq não né🤷‍♂️🤷‍♂️\n",
    "    try:\n",
    "        numero1 = float(input(\"Digite o 1º número: \"))\n",
    "        numero2 = float(input(\"Digite o 2º número: \"))\n",
    "    \n",
    "        print(f\"-------- Resultado --------\\n{numero1} dividido por {numero2} = {numero1 / numero2}\")\n",
    "        break\n",
    "    except ZeroDivisionError:\n",
    "        print(f\"ERRO 🚨: Impossível dividir por Zero\\n\")\n",
    "        continue\n",
    "    except ValueError:\n",
    "        print(f\"ERRO 🚨: Insira valores númericos\\n\")\n",
    "        continue\n"
   ]
  },
  {
   "cell_type": "markdown",
   "id": "909d1beb",
   "metadata": {},
   "source": [
    "#### Questão 2\n",
    "\n",
    "Faça um programa que solicite à pessoa usuária digitar um texto que será uma chave a ser pesquisada no seguinte dicionário: `idades = {'Júlia': 16, 'Carol': 23, 'Alberto': 19, 'Roberta': 17}`, armazenando o resultado do valor em uma variável. O código deve conter um tratamento de erro `KeyError`, imprimindo a informação 'Nome não encontrado' caso ocorra o erro e imprimir o valor caso não ocorra nenhum.\n",
    "\n",
    "Teste o programa com um nome presente em uma das chaves do dicionário e com um que não esteja no dicionário para verificar a mensagem de erro.\n",
    "\n"
   ]
  },
  {
   "cell_type": "code",
   "execution_count": null,
   "id": "9bd8cdfe",
   "metadata": {},
   "outputs": [],
   "source": []
  },
  {
   "cell_type": "markdown",
   "id": "868468c9",
   "metadata": {},
   "source": [
    "#### Questão 3\n",
    "Crie uma função que recebe uma lista como parâmetro e converta todos os valores da lista para `float`. A função deve conter um tratamento de erro indicando o tipo de erro gerado e retornar a lista caso não tenha ocorrido nenhum erro. Por fim, deve ter a cláusula `finally` para imprimir o texto: 'Fim da execução da função'."
   ]
  },
  {
   "cell_type": "code",
   "execution_count": null,
   "id": "c0ba529a",
   "metadata": {},
   "outputs": [],
   "source": []
  },
  {
   "cell_type": "markdown",
   "id": "29b834ec",
   "metadata": {},
   "source": [
    "#### Questão 4\n",
    "Crie uma função que recebe duas listas como parâmetros e agrupe os elementos um a um das listas, formando uma lista de tuplas de 3 elementos, onde o primeiro e segundo elemento da tupla são os valores na posição `i` das listas e o terceiro elemento é a soma dos valores na posição `i` das listas. A função deve conter um tratamento de erro indicando o tipo de erro gerado e retornar como resultado a lista de tuplas. Caso as listas enviadas como parâmetro tenham tamanhos diferentes, a função deve retornar um IndexError com a frase: 'A quantidade de elementos em cada lista é diferente.' \n",
    "\n",
    "Dados para testar a função:\n",
    "\n",
    "Valores sem erro:\n",
    "```\n",
    "lista1 = [4,6,7,9,10]\n",
    "lista 2 = [-4,6,8,7,9]\n",
    "```\n",
    "Listas com tamanhos diferentes:\n",
    "\n",
    "```\n",
    "lista1 = [4,6,7,9,10,4]\n",
    "lista 2 = [-4,6,8,7,9]\n",
    "```\n",
    "Listas com valores incoerentes:\n",
    "\n",
    "```\n",
    "lista1 = [4,6,7,9,'A']\n",
    "lista 2 = [-4,'E',8,7,9]\n",
    "```"
   ]
  },
  {
   "cell_type": "code",
   "execution_count": null,
   "id": "714a43ba",
   "metadata": {},
   "outputs": [],
   "source": []
  },
  {
   "cell_type": "markdown",
   "id": "cdd7720e",
   "metadata": {},
   "source": [
    "### Aplicando a projetos"
   ]
  },
  {
   "cell_type": "markdown",
   "id": "658f5fca",
   "metadata": {},
   "source": [
    "#### Questão 5\n",
    "\n",
    "Você recebeu como desafio desenvolver um código que contabiliza as pontuações de estudantes de uma instituição de ensino de acordo com suas respostas num teste. \n",
    "\n",
    "Este código deve ser testado para um exemplo de 3 estudantes com uma lista de listas em que cada lista possui as respostas de 5 questões objetivas de cada estudante. Cada questão vale um ponto e as alternativas possíveis são A, B, C ou D. \n",
    "\n",
    "Caso alguma alternativa em um dos testes não esteja entre as alternativas possíveis você deve lançar um **ValueError** com a mensagem `\"A alternativa [alternativa] não é uma opção de alternativa válida\"`. O cálculo das 3 notas só será realizado mediante as entradas com as alternativas A, B, C ou D em todos os testes.\n",
    "\n",
    "Se não for lançada a exceção, será exibida uma lista com as notas em cada teste.\n",
    "\n",
    "Os dados para o teste do código são:\n",
    "\n",
    "- **Gabarito da prova**:\n",
    "```\n",
    "gabarito = ['D', 'A', 'B', 'C', 'A']\n",
    "```\n",
    "Abaixo temos 2 listas de listas que você pode usar como teste\n",
    "\n",
    "- **Notas sem exceção:**\n",
    "```\n",
    "testes_sem_ex = [['D', 'A', 'B', 'C', 'A'], ['C', 'A', 'A', 'C', 'A'], ['D', 'B', 'A', 'C', 'A']]\n",
    "```\n",
    "- **Notas com exceção:**\n",
    "```\n",
    "testes_com_ex = [['D', 'A', 'B', 'C', 'A'], ['C', 'A', 'A', 'E', 'A'], ['D', 'B', 'A', 'C', 'A']]\n",
    "```\n",
    "\n",
    "> Dica: Para verificar se uma entrada da lista não está entre as alternativas possíveis use a estrutura `lista[i] not in ['A','B','C','D']` (Por exemplo, `1 not in [2,3,4]`... Saída: `True`) "
   ]
  },
  {
   "cell_type": "code",
   "execution_count": null,
   "id": "06f31b50",
   "metadata": {},
   "outputs": [],
   "source": [
    "# Função para correção das notas\n"
   ]
  },
  {
   "cell_type": "code",
   "execution_count": null,
   "id": "0241e43a",
   "metadata": {},
   "outputs": [],
   "source": [
    "# Testando no exemplo que não lança exceção\n"
   ]
  },
  {
   "cell_type": "code",
   "execution_count": null,
   "id": "66faf5a3",
   "metadata": {},
   "outputs": [],
   "source": [
    "# Testando no exemplo que lança exceção\n"
   ]
  },
  {
   "cell_type": "markdown",
   "id": "1d631ce7",
   "metadata": {},
   "source": [
    "#### Questão 6\n",
    "\n",
    "Você está trabalhando com processamento de linguagem natural ([NLP](https://www.alura.com.br/artigos/guia-nlp-conceitos-tecnicas)) e, dessa vez, sua líder requisitou que você criasse um trecho de código que recebe uma lista com as palavras separadas de uma frase gerada pelo ChatGPT. \n",
    "\n",
    "Você precisa criar uma função que avalia cada palavra desse texto e verificar se o tratamento para retirar os símbolos de pontuação (',' '.', '!' e '?') foi realizado. Caso contrário, será lançada uma exceção do tipo **ValueError** apontando o 1º caso em que foi detectado o uso de uma pontuação por meio da frase `\"O texto apresenta pontuações na palavra \"[palavra]\".\"`.\n",
    "\n",
    "Essa demanda é voltada para a análise do padrão de frases geradas pela inteligência artificial.\n",
    "\n",
    "> Dica: Para verificar se uma ou mais das pontuações estão presentes em cada palavra, utilize a palavra chave `or` na condição if (Por exemplo, `('a' or 'b') in 'alura'` ... Saída: `True`) \n",
    "\n",
    "Os dados para o teste do código são:\n",
    "\n",
    "- **Lista tratada:**\n",
    "```\n",
    "lista_tratada = ['Python', 'é', 'uma', 'linguagem', 'de', 'programação', 'poderosa', 'versátil',\n",
    "                  'e', 'fácil', 'de', 'aprender', 'utilizada', 'em', 'diversos', 'campos', 'desde',\n",
    "                  'análise', 'de', 'dados', 'até', 'inteligência', 'artificial']\n",
    "```\n",
    "- **Lista não tratada:**\n",
    "```\n",
    "lista_nao_tratada = ['Python', 'é', 'uma', 'linguagem', 'de', 'programação', 'poderosa,', 'versátil',\n",
    "                  'e', 'fácil,', 'de', 'aprender', 'utilizada', 'em', 'diversos', 'campos,', 'desde',\n",
    "                  'análise', 'de', 'dados', 'até', 'inteligência', 'artificial!']\n",
    "```\n"
   ]
  },
  {
   "cell_type": "code",
   "execution_count": null,
   "id": "9ac6c043",
   "metadata": {},
   "outputs": [],
   "source": [
    "# criando a função que recebe a lista de palavras\n"
   ]
  },
  {
   "cell_type": "code",
   "execution_count": null,
   "id": "3f374af8",
   "metadata": {},
   "outputs": [],
   "source": [
    "# Testando no exemplo que não lança exceção\n"
   ]
  },
  {
   "cell_type": "code",
   "execution_count": null,
   "id": "f3389401",
   "metadata": {},
   "outputs": [],
   "source": [
    "# Testando no exemplo que lança exceção\n"
   ]
  },
  {
   "cell_type": "markdown",
   "id": "854f55e4",
   "metadata": {},
   "source": [
    "#### Questão 7\n",
    "Você foi contratado como uma pessoa cientista de dados para auxiliar um laboratório que faz experimentos sobre o comportamento de uma cultura de fungos. O laboratório precisa avaliar constantemente a razão (divisão) entre os dados de pressão e temperatura do ambiente controlado recolhidos durante a experimentação para definir a melhor condição para os testes.\n",
    "\n",
    "Para cumprir com a demanda, você precisa criar uma função `divide_colunas` que recebe os dados das colunas de pressão e temperatura (que vem no formato de listas) e gerar uma nova coluna com o resultado da divisão. Os parâmetros da função são as duas listas e você deve tratar dentro dela ao menos 2 tipos de exceções:   \n",
    "- Verificar se as listas têm o mesmo tamanho (ValueError)\n",
    "- Verificar se existe alguma divisão por zero (ZeroDivisionError)\n",
    "\n",
    "Para testar a função, vamos realizar a divisão entre duas listas de dados coletados no experimento, com os valores de pressão e temperatura do ambiente controlado. \n",
    "\n",
    "Como teste, use os seguintes dados:\n",
    "\n",
    "- **Dados sem exceção:**\n",
    "```\n",
    "pressoes = [100, 120, 140, 160, 180]\n",
    "temperaturas = [20, 25, 30, 35, 40]\n",
    "```\n",
    "- **Dados com exceção:**\n",
    "1. Exceção de ZeroDivisionError \n",
    "```\n",
    "pressoes = [60, 120, 140, 160, 180]\n",
    "temperaturas = [0, 25, 30, 35, 40]\n",
    "```\n",
    "2. Exceção de ValueError\n",
    "```\n",
    "pressoes = [100, 120, 140, 160]\n",
    "temperaturas = [20, 25, 30, 35, 40]\n",
    "```\n",
    "\n",
    "> Dica: Você pode usar `zip()` para parear os dados da lista_1 com a lista_2. Crie uma estrutura try-except que caso uma das exceções sejam lançadas, podemos ver o tipo de erro na saída.\n"
   ]
  },
  {
   "cell_type": "code",
   "execution_count": null,
   "id": "7991cfea",
   "metadata": {},
   "outputs": [],
   "source": []
  },
  {
   "cell_type": "code",
   "execution_count": null,
   "id": "8cec0328",
   "metadata": {},
   "outputs": [],
   "source": [
    "# Testando no exemplo que não lança exceção\n"
   ]
  },
  {
   "cell_type": "code",
   "execution_count": null,
   "id": "11e33296",
   "metadata": {},
   "outputs": [],
   "source": [
    "# Testando no exemplo que lança exceção (ZeroDivisionError)\n"
   ]
  },
  {
   "cell_type": "code",
   "execution_count": null,
   "id": "929dd25a",
   "metadata": {},
   "outputs": [],
   "source": [
    "# Testando no exemplo que lança exceção (ValueError)\n"
   ]
  }
 ],
 "metadata": {
  "kernelspec": {
   "display_name": ".venv",
   "language": "python",
   "name": "python3"
  },
  "language_info": {
   "codemirror_mode": {
    "name": "ipython",
    "version": 3
   },
   "file_extension": ".py",
   "mimetype": "text/x-python",
   "name": "python",
   "nbconvert_exporter": "python",
   "pygments_lexer": "ipython3",
   "version": "3.13.2"
  }
 },
 "nbformat": 4,
 "nbformat_minor": 5
}
