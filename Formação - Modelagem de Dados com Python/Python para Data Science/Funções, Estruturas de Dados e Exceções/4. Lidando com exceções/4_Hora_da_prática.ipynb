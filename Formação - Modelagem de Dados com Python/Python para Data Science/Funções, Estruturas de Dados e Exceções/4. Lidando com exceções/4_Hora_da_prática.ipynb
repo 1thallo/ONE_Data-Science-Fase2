{
  "cells": [
    {
      "cell_type": "markdown",
      "id": "6252f49c",
      "metadata": {
        "id": "6252f49c"
      },
      "source": [
        "## Aula 4 - Lidando com exceções"
      ]
    },
    {
      "cell_type": "markdown",
      "id": "37a7afba",
      "metadata": {
        "id": "37a7afba"
      },
      "source": [
        "### Aquecimento"
      ]
    },
    {
      "cell_type": "markdown",
      "id": "1213eadb",
      "metadata": {
        "id": "1213eadb"
      },
      "source": [
        "#### Questão 1\n",
        "\n",
        "Faça um programa que solicite à pessoa usuária digitar dois números `float` e calcular a divisão entre esses números. O código deve conter um tratamento de erro, indicando o tipo de erro que foi gerado caso a divisão não seja possível de realizar.\n",
        "\n",
        "Teste o programa com o segundo valor numérico do input igual a 0 e também teste utilizando caracteres textuais no input para checar os tipos de erro que ocorrem."
      ]
    },
    {
      "cell_type": "code",
      "execution_count": null,
      "id": "7df717fd",
      "metadata": {
        "id": "7df717fd",
        "outputId": "936bd75a-8ccb-4d12-b09a-caabf6f118a7"
      },
      "outputs": [
        {
          "name": "stdout",
          "output_type": "stream",
          "text": [
            "ERRO 🚨: Impossível dividir por Zero\n",
            "\n",
            "ERRO 🚨: Insira valores númericos\n",
            "\n",
            "-------- Resultado --------\n",
            "10.0 dividido por 5.0 = 2.0\n"
          ]
        }
      ],
      "source": [
        "while 1 + 1 == 2:  #pq não né🤷‍♂️🤷‍♂️\n",
        "    try:\n",
        "        numero1 = float(input(\"Digite o 1º número: \"))\n",
        "        numero2 = float(input(\"Digite o 2º número: \"))\n",
        "\n",
        "        print(f\"-------- Resultado --------\\n{numero1} dividido por {numero2} = {numero1 / numero2}\")\n",
        "        break\n",
        "    except ZeroDivisionError:\n",
        "        print(f\"ERRO 🚨: Impossível dividir por Zero\\n\")\n",
        "        continue\n",
        "    except ValueError:\n",
        "        print(f\"ERRO 🚨: Insira valores númericos\\n\")\n",
        "        continue\n"
      ]
    },
    {
      "cell_type": "markdown",
      "id": "909d1beb",
      "metadata": {
        "id": "909d1beb"
      },
      "source": [
        "#### Questão 2\n",
        "\n",
        "Faça um programa que solicite à pessoa usuária digitar um texto que será uma chave a ser pesquisada no seguinte dicionário: `idades = {'Júlia': 16, 'Carol': 23, 'Alberto': 19, 'Roberta': 17}`, armazenando o resultado do valor em uma variável. O código deve conter um tratamento de erro `KeyError`, imprimindo a informação 'Nome não encontrado' caso ocorra o erro e imprimir o valor caso não ocorra nenhum.\n",
        "\n",
        "Teste o programa com um nome presente em uma das chaves do dicionário e com um que não esteja no dicionário para verificar a mensagem de erro.\n",
        "\n"
      ]
    },
    {
      "cell_type": "code",
      "execution_count": null,
      "id": "9bd8cdfe",
      "metadata": {
        "colab": {
          "base_uri": "https://localhost:8080/"
        },
        "id": "9bd8cdfe",
        "outputId": "7fb783b2-2835-4845-b43a-528064ea62e4"
      },
      "outputs": [
        {
          "output_type": "stream",
          "name": "stdout",
          "text": [
            "Insira o nome a ser pesquisado: Ithallo\n",
            "Nome não encontrado\n",
            "\n",
            "Insira o nome a ser pesquisado: Carol\n",
            "Carol tem 23 anos\n"
          ]
        }
      ],
      "source": [
        "idades = {'Júlia': 16, 'Carol': 23, 'Alberto': 19, 'Roberta': 17}\n",
        "\n",
        "while True:\n",
        "  try:\n",
        "    chave = input(\"Insira o nome a ser pesquisado: \")\n",
        "    valor = idades[chave]\n",
        "    print(f\"{chave} tem {valor} anos\")\n",
        "    break\n",
        "  except KeyError:\n",
        "    print('Nome não encontrado\\n')"
      ]
    },
    {
      "cell_type": "markdown",
      "id": "868468c9",
      "metadata": {
        "id": "868468c9"
      },
      "source": [
        "#### Questão 3\n",
        "Crie uma função que recebe uma lista como parâmetro e converta todos os valores da lista para `float`. A função deve conter um tratamento de erro indicando o tipo de erro gerado e retornar a lista caso não tenha ocorrido nenhum erro. Por fim, deve ter a cláusula `finally` para imprimir o texto: 'Fim da execução da função'."
      ]
    },
    {
      "cell_type": "code",
      "execution_count": null,
      "id": "c0ba529a",
      "metadata": {
        "colab": {
          "base_uri": "https://localhost:8080/"
        },
        "id": "c0ba529a",
        "outputId": "97a1ec37-838f-4e39-b80e-d58897014b25"
      },
      "outputs": [
        {
          "output_type": "stream",
          "name": "stdout",
          "text": [
            "<class 'ValueError'> Erro: could not convert string to float: 'A'\n",
            "Fim da execução da função.\n",
            "None\n"
          ]
        }
      ],
      "source": [
        "def conversor_lista(p_lista):\n",
        "  try:\n",
        "    lista_float = [float(n) for n in p_lista]\n",
        "  except Exception as e:\n",
        "    print(f\"{type(e)} Erro: {e}\")\n",
        "  else:\n",
        "    return lista_float\n",
        "  finally:\n",
        "    print(\"Fim da execução da função.\")\n",
        "\n",
        "lista = [1,4,5,8,10, \"A\"]\n",
        "print(conversor_lista(lista))"
      ]
    },
    {
      "cell_type": "markdown",
      "id": "29b834ec",
      "metadata": {
        "id": "29b834ec"
      },
      "source": [
        "#### Questão 4\n",
        "Crie uma função que recebe duas listas como parâmetros e agrupe os elementos um a um das listas, formando uma lista de tuplas de 3 elementos, onde o primeiro e segundo elemento da tupla são os valores na posição `i` das listas e o terceiro elemento é a soma dos valores na posição `i` das listas. A função deve conter um tratamento de erro indicando o tipo de erro gerado e retornar como resultado a lista de tuplas. Caso as listas enviadas como parâmetro tenham tamanhos diferentes, a função deve retornar um IndexError com a frase: 'A quantidade de elementos em cada lista é diferente.'\n",
        "\n",
        "Dados para testar a função:\n",
        "\n",
        "Valores sem erro:\n",
        "```\n",
        "lista1 = [4,6,7,9,10]\n",
        "lista 2 = [-4,6,8,7,9]\n",
        "```\n",
        "Listas com tamanhos diferentes:\n",
        "\n",
        "```\n",
        "lista1 = [4,6,7,9,10,4]\n",
        "lista 2 = [-4,6,8,7,9]\n",
        "```\n",
        "Listas com valores incoerentes:\n",
        "\n",
        "```\n",
        "lista1 = [4,6,7,9,'A']\n",
        "lista 2 = [-4,'E',8,7,9]\n",
        "```"
      ]
    },
    {
      "cell_type": "code",
      "execution_count": 7,
      "id": "714a43ba",
      "metadata": {
        "colab": {
          "base_uri": "https://localhost:8080/"
        },
        "id": "714a43ba",
        "outputId": "a06ca87d-75aa-49bc-97d2-dcb344987270"
      },
      "outputs": [
        {
          "output_type": "stream",
          "name": "stdout",
          "text": [
            "Teste 1: [0, 12, 15, 16, 19]\n",
            "\n",
            "Teste 2: Erro: As listas têm comprimentos diferentes.\n",
            "\n",
            "Teste 3: Erro de tipo ao somar elementos: unsupported operand type(s) for +: 'int' and 'str'\n"
          ]
        }
      ],
      "source": [
        "def soma_listas(p_lista1, p_lista2):\n",
        "    if len(p_lista1) != len(p_lista2):\n",
        "        return f\"Erro: As listas têm comprimentos diferentes.\"\n",
        "\n",
        "    try:\n",
        "        lista_soma = [p_lista1[i] + p_lista2[i] for i in range(len(p_lista1))]\n",
        "        return lista_soma\n",
        "    except TypeError as e:\n",
        "        return f\"Erro de tipo ao somar elementos: {e}\"\n",
        "    except Exception as e:\n",
        "        return f\"Erro inesperado: {type(e)}: {e}\"\n",
        "\n",
        "## testes\n",
        "lista1 = [4, 6, 7, 9, 10]\n",
        "lista2 = [-4, 6, 8, 7, 9]\n",
        "\n",
        "lista3 = [4, 6, 7, 9, 10, 4]\n",
        "lista4 = [-4, 6, 8, 7, 9]\n",
        "\n",
        "lista5 = [4, 6, 7, 9, 'A']\n",
        "lista6 = [-4, 'E', 8, 7, 9]\n",
        "\n",
        "print(f\"Teste 1: {soma_listas(lista1, lista2)}\\n\")  # válido\n",
        "print(f\"Teste 2: {soma_listas(lista3, lista4)}\\n\")  # tamanhos diferentes\n",
        "print(f\"Teste 3: {soma_listas(lista5, lista6)}\")  # erro de tipo\n"
      ]
    },
    {
      "cell_type": "markdown",
      "id": "cdd7720e",
      "metadata": {
        "id": "cdd7720e"
      },
      "source": [
        "### Aplicando a projetos"
      ]
    },
    {
      "cell_type": "markdown",
      "id": "658f5fca",
      "metadata": {
        "id": "658f5fca"
      },
      "source": [
        "#### Questão 5\n",
        "\n",
        "Você recebeu como desafio desenvolver um código que contabiliza as pontuações de estudantes de uma instituição de ensino de acordo com suas respostas num teste.\n",
        "\n",
        "Este código deve ser testado para um exemplo de 3 estudantes com uma lista de listas em que cada lista possui as respostas de 5 questões objetivas de cada estudante. Cada questão vale um ponto e as alternativas possíveis são A, B, C ou D.\n",
        "\n",
        "Caso alguma alternativa em um dos testes não esteja entre as alternativas possíveis você deve lançar um **ValueError** com a mensagem `\"A alternativa [alternativa] não é uma opção de alternativa válida\"`. O cálculo das 3 notas só será realizado mediante as entradas com as alternativas A, B, C ou D em todos os testes.\n",
        "\n",
        "Se não for lançada a exceção, será exibida uma lista com as notas em cada teste.\n",
        "\n",
        "Os dados para o teste do código são:\n",
        "\n",
        "- **Gabarito da prova**:\n",
        "```\n",
        "gabarito = ['D', 'A', 'B', 'C', 'A']\n",
        "```\n",
        "Abaixo temos 2 listas de listas que você pode usar como teste\n",
        "\n",
        "- **Notas sem exceção:**\n",
        "```\n",
        "testes_sem_ex = [['D', 'A', 'B', 'C', 'A'], ['C', 'A', 'A', 'C', 'A'], ['D', 'B', 'A', 'C', 'A']]\n",
        "```\n",
        "- **Notas com exceção:**\n",
        "```\n",
        "testes_com_ex = [['D', 'A', 'B', 'C', 'A'], ['C', 'A', 'A', 'E', 'A'], ['D', 'B', 'A', 'C', 'A']]\n",
        "```\n",
        "\n",
        "> Dica: Para verificar se uma entrada da lista não está entre as alternativas possíveis use a estrutura `lista[i] not in ['A','B','C','D']` (Por exemplo, `1 not in [2,3,4]`... Saída: `True`)"
      ]
    },
    {
      "cell_type": "code",
      "execution_count": 15,
      "id": "06f31b50",
      "metadata": {
        "id": "06f31b50"
      },
      "outputs": [],
      "source": [
        "# Função para correção das notas\n",
        "gabarito = ['D', 'A', 'B', 'C', 'A']\n",
        "pontos = []\n",
        "\n",
        "def correcao_notas(v_lista):\n",
        "  try:\n",
        "    for teste in v_lista:\n",
        "      nota = 0\n",
        "\n",
        "      for i in range(len(teste)):        # lista da lista\n",
        "        if teste[i] not in gabarito:\n",
        "          raise ValueError(f'A alternativa {teste[i]} não é uma opção de alternativa válida')\n",
        "        elif teste[i] == gabarito[i]:\n",
        "          nota += 1\n",
        "      pontos.append(nota)\n",
        "  except Exception as e:\n",
        "    print(f\"{type(e)}. Erro: {e}\")\n",
        "  else:\n",
        "    return pontos"
      ]
    },
    {
      "cell_type": "code",
      "execution_count": 11,
      "id": "0241e43a",
      "metadata": {
        "id": "0241e43a",
        "outputId": "91bcee0d-5759-4a2d-c8b6-edcdcd651296",
        "colab": {
          "base_uri": "https://localhost:8080/"
        }
      },
      "outputs": [
        {
          "output_type": "execute_result",
          "data": {
            "text/plain": [
              "[5, 3, 3]"
            ]
          },
          "metadata": {},
          "execution_count": 11
        }
      ],
      "source": [
        "# Testando no exemplo que não lança exceção\n",
        "testes_sem_ex = [['D', 'A', 'B', 'C', 'A'], ['C', 'A', 'A', 'C', 'A'], ['D', 'B', 'A', 'C', 'A']]\n",
        "\n",
        "correcao_notas(testes_sem_ex)"
      ]
    },
    {
      "cell_type": "code",
      "execution_count": 13,
      "id": "66faf5a3",
      "metadata": {
        "id": "66faf5a3",
        "outputId": "20f93ffe-277d-455f-e6a1-ab4b6e98e172",
        "colab": {
          "base_uri": "https://localhost:8080/"
        }
      },
      "outputs": [
        {
          "output_type": "stream",
          "name": "stdout",
          "text": [
            "<class 'ValueError'>. Erro: A alternativa E não é uma opção de alternativa válida\n"
          ]
        }
      ],
      "source": [
        "# Testando no exemplo que lança exceção\n",
        "testes_com_ex = [['D', 'A', 'B', 'C', 'A'], ['C', 'A', 'A', 'E', 'A'], ['D', 'B', 'A', 'C', 'A']]\n",
        "\n",
        "correcao_notas(testes_com_ex)"
      ]
    },
    {
      "cell_type": "markdown",
      "id": "1d631ce7",
      "metadata": {
        "id": "1d631ce7"
      },
      "source": [
        "#### Questão 6\n",
        "\n",
        "Você está trabalhando com processamento de linguagem natural ([NLP](https://www.alura.com.br/artigos/guia-nlp-conceitos-tecnicas)) e, dessa vez, sua líder requisitou que você criasse um trecho de código que recebe uma lista com as palavras separadas de uma frase gerada pelo ChatGPT.\n",
        "\n",
        "Você precisa criar uma função que avalia cada palavra desse texto e verificar se o tratamento para retirar os símbolos de pontuação (',' '.', '!' e '?') foi realizado. Caso contrário, será lançada uma exceção do tipo **ValueError** apontando o 1º caso em que foi detectado o uso de uma pontuação por meio da frase `\"O texto apresenta pontuações na palavra \"[palavra]\".\"`.\n",
        "\n",
        "Essa demanda é voltada para a análise do padrão de frases geradas pela inteligência artificial.\n",
        "\n",
        "> Dica: Para verificar se uma ou mais das pontuações estão presentes em cada palavra, utilize a palavra chave `or` na condição if (Por exemplo, `('a' or 'b') in 'alura'` ... Saída: `True`)\n",
        "\n",
        "Os dados para o teste do código são:\n",
        "\n",
        "- **Lista tratada:**\n",
        "```\n",
        "lista_tratada = ['Python', 'é', 'uma', 'linguagem', 'de', 'programação', 'poderosa', 'versátil',\n",
        "                  'e', 'fácil', 'de', 'aprender', 'utilizada', 'em', 'diversos', 'campos', 'desde',\n",
        "                  'análise', 'de', 'dados', 'até', 'inteligência', 'artificial']\n",
        "```\n",
        "- **Lista não tratada:**\n",
        "```\n",
        "lista_nao_tratada = ['Python', 'é', 'uma', 'linguagem', 'de', 'programação', 'poderosa,', 'versátil',\n",
        "                  'e', 'fácil,', 'de', 'aprender', 'utilizada', 'em', 'diversos', 'campos,', 'desde',\n",
        "                  'análise', 'de', 'dados', 'até', 'inteligência', 'artificial!']\n",
        "```\n"
      ]
    },
    {
      "cell_type": "code",
      "execution_count": 54,
      "id": "9ac6c043",
      "metadata": {
        "id": "9ac6c043"
      },
      "outputs": [],
      "source": [
        "def avaliacao(v_lista):\n",
        "    palavras_pontuadas = []\n",
        "\n",
        "    for palavra in v_lista:\n",
        "        if any(p in palavra for p in [',', '.', '!', '?']):\n",
        "            palavras_pontuadas.append(palavra)\n",
        "\n",
        "    if palavras_pontuadas != \"Null\":\n",
        "        raise ValueError(f\"O texto apresenta pontuações nas palavras: {palavras_pontuadas}\")\n",
        "\n",
        "    return \"Tudo certo!\"\n"
      ]
    },
    {
      "cell_type": "code",
      "execution_count": 50,
      "id": "3f374af8",
      "metadata": {
        "id": "3f374af8",
        "outputId": "97725e7b-8482-43cd-d1cf-2f101bf88804",
        "colab": {
          "base_uri": "https://localhost:8080/",
          "height": 35
        }
      },
      "outputs": [
        {
          "output_type": "execute_result",
          "data": {
            "text/plain": [
              "'Tudo certo!'"
            ],
            "application/vnd.google.colaboratory.intrinsic+json": {
              "type": "string"
            }
          },
          "metadata": {},
          "execution_count": 50
        }
      ],
      "source": [
        "# Testando no exemplo que não lança exceção\n",
        "lista_tratada = ['Python', 'é', 'uma', 'linguagem', 'de', 'programação', 'poderosa', 'versátil',\n",
        "                'e', 'fácil', 'de', 'aprender', 'utilizada', 'em', 'diversos', 'campos', 'desde',\n",
        "                'análise', 'de', 'dados', 'até', 'inteligência', 'artificial']\n",
        "\n",
        "avaliacao(lista_tratada)"
      ]
    },
    {
      "cell_type": "code",
      "execution_count": 55,
      "id": "f3389401",
      "metadata": {
        "id": "f3389401",
        "outputId": "e7aa9013-eb69-48da-e4e3-0e613be4798e",
        "colab": {
          "base_uri": "https://localhost:8080/",
          "height": 297
        }
      },
      "outputs": [
        {
          "output_type": "error",
          "ename": "ValueError",
          "evalue": "O texto apresenta pontuações nas palavras: ['poderosa,', 'fácil,', 'campos,', 'artificial!']",
          "traceback": [
            "\u001b[0;31m---------------------------------------------------------------------------\u001b[0m",
            "\u001b[0;31mValueError\u001b[0m                                Traceback (most recent call last)",
            "\u001b[0;32m<ipython-input-55-87a7b61735f2>\u001b[0m in \u001b[0;36m<cell line: 0>\u001b[0;34m()\u001b[0m\n\u001b[1;32m      4\u001b[0m                 'análise', 'de', 'dados', 'até', 'inteligência', 'artificial!']\n\u001b[1;32m      5\u001b[0m \u001b[0;34m\u001b[0m\u001b[0m\n\u001b[0;32m----> 6\u001b[0;31m \u001b[0mavaliacao\u001b[0m\u001b[0;34m(\u001b[0m\u001b[0mlista_nao_tratada\u001b[0m\u001b[0;34m)\u001b[0m\u001b[0;34m\u001b[0m\u001b[0;34m\u001b[0m\u001b[0m\n\u001b[0m",
            "\u001b[0;32m<ipython-input-54-e19847863443>\u001b[0m in \u001b[0;36mavaliacao\u001b[0;34m(v_lista)\u001b[0m\n\u001b[1;32m      7\u001b[0m \u001b[0;34m\u001b[0m\u001b[0m\n\u001b[1;32m      8\u001b[0m     \u001b[0;32mif\u001b[0m \u001b[0mpalavras_pontuadas\u001b[0m \u001b[0;34m!=\u001b[0m \u001b[0;34m\"Null\"\u001b[0m\u001b[0;34m:\u001b[0m\u001b[0;34m\u001b[0m\u001b[0;34m\u001b[0m\u001b[0m\n\u001b[0;32m----> 9\u001b[0;31m         \u001b[0;32mraise\u001b[0m \u001b[0mValueError\u001b[0m\u001b[0;34m(\u001b[0m\u001b[0;34mf\"O texto apresenta pontuações nas palavras: {palavras_pontuadas}\"\u001b[0m\u001b[0;34m)\u001b[0m\u001b[0;34m\u001b[0m\u001b[0;34m\u001b[0m\u001b[0m\n\u001b[0m\u001b[1;32m     10\u001b[0m \u001b[0;34m\u001b[0m\u001b[0m\n\u001b[1;32m     11\u001b[0m     \u001b[0;32mreturn\u001b[0m \u001b[0;34m\"Tudo certo!\"\u001b[0m\u001b[0;34m\u001b[0m\u001b[0;34m\u001b[0m\u001b[0m\n",
            "\u001b[0;31mValueError\u001b[0m: O texto apresenta pontuações nas palavras: ['poderosa,', 'fácil,', 'campos,', 'artificial!']"
          ]
        }
      ],
      "source": [
        "# Testando no exemplo que lança exceção\n",
        "lista_nao_tratada = ['Python', 'é', 'uma', 'linguagem', 'de', 'programação', 'poderosa,', 'versátil',\n",
        "                'e', 'fácil,', 'de', 'aprender', 'utilizada', 'em', 'diversos', 'campos,', 'desde',\n",
        "                'análise', 'de', 'dados', 'até', 'inteligência', 'artificial!']\n",
        "\n",
        "avaliacao(lista_nao_tratada)"
      ]
    },
    {
      "cell_type": "markdown",
      "id": "854f55e4",
      "metadata": {
        "id": "854f55e4"
      },
      "source": [
        "#### Questão 7\n",
        "Você foi contratado como uma pessoa cientista de dados para auxiliar um laboratório que faz experimentos sobre o comportamento de uma cultura de fungos. O laboratório precisa avaliar constantemente a razão (divisão) entre os dados de pressão e temperatura do ambiente controlado recolhidos durante a experimentação para definir a melhor condição para os testes.\n",
        "\n",
        "Para cumprir com a demanda, você precisa criar uma função `divide_colunas` que recebe os dados das colunas de pressão e temperatura (que vem no formato de listas) e gerar uma nova coluna com o resultado da divisão. Os parâmetros da função são as duas listas e você deve tratar dentro dela ao menos 2 tipos de exceções:   \n",
        "- Verificar se as listas têm o mesmo tamanho (ValueError)\n",
        "- Verificar se existe alguma divisão por zero (ZeroDivisionError)\n",
        "\n",
        "Para testar a função, vamos realizar a divisão entre duas listas de dados coletados no experimento, com os valores de pressão e temperatura do ambiente controlado.\n",
        "\n",
        "Como teste, use os seguintes dados:\n",
        "\n",
        "- **Dados sem exceção:**\n",
        "```\n",
        "pressoes = [100, 120, 140, 160, 180]\n",
        "temperaturas = [20, 25, 30, 35, 40]\n",
        "```\n",
        "- **Dados com exceção:**\n",
        "1. Exceção de ZeroDivisionError\n",
        "```\n",
        "pressoes = [60, 120, 140, 160, 180]\n",
        "temperaturas = [0, 25, 30, 35, 40]\n",
        "```\n",
        "2. Exceção de ValueError\n",
        "```\n",
        "pressoes = [100, 120, 140, 160]\n",
        "temperaturas = [20, 25, 30, 35, 40]\n",
        "```\n",
        "\n",
        "> Dica: Você pode usar `zip()` para parear os dados da lista_1 com a lista_2. Crie uma estrutura try-except que caso uma das exceções sejam lançadas, podemos ver o tipo de erro na saída.\n"
      ]
    },
    {
      "cell_type": "code",
      "execution_count": 56,
      "id": "7991cfea",
      "metadata": {
        "id": "7991cfea"
      },
      "outputs": [],
      "source": [
        "def divide_colunas(v_lista_1, v_lista_2) -> list:\n",
        "\n",
        "  try:\n",
        "    if len(v_lista_1) != len(v_lista_2): # Verificando se as listas tem o mesmo tamanho, se não lança uma exceção\n",
        "      raise ValueError(\"As listas precisam ter o mesmo tamanho\")\n",
        "\n",
        "    # A função zip pareia os elementos das listas e uma lista é gerada por meio da razão entre os pares\n",
        "    resultado = [round(a / b, 2) for a, b in zip(v_lista_1, v_lista_2)]\n",
        "  except ValueError as e:\n",
        "    print(e)\n",
        "  except ZeroDivisionError as e:\n",
        "    print(f\"{e}: A 2ª lista não pode possuir um valor igual a 0\")\n",
        "  else:\n",
        "    return resultado"
      ]
    },
    {
      "cell_type": "code",
      "execution_count": 58,
      "id": "8cec0328",
      "metadata": {
        "id": "8cec0328",
        "outputId": "90971e5b-7514-42b6-b445-3d81ea9189cb",
        "colab": {
          "base_uri": "https://localhost:8080/"
        }
      },
      "outputs": [
        {
          "output_type": "execute_result",
          "data": {
            "text/plain": [
              "[5.0, 4.8, 4.67, 4.57, 4.5]"
            ]
          },
          "metadata": {},
          "execution_count": 58
        }
      ],
      "source": [
        "# Testando no exemplo que não lança exceção\n",
        "pressoes = [100, 120, 140, 160, 180]\n",
        "temperaturas = [20, 25, 30, 35, 40]\n",
        "\n",
        "divide_colunas(pressoes, temperaturas)"
      ]
    },
    {
      "cell_type": "code",
      "execution_count": 59,
      "id": "11e33296",
      "metadata": {
        "id": "11e33296",
        "outputId": "fdbf0d1d-8851-416c-a848-4f52851a94f0",
        "colab": {
          "base_uri": "https://localhost:8080/"
        }
      },
      "outputs": [
        {
          "output_type": "stream",
          "name": "stdout",
          "text": [
            "division by zero: A 2ª lista não pode possuir um valor igual a 0\n"
          ]
        }
      ],
      "source": [
        "# Testando no exemplo que lança exceção (ZeroDivisionError)\n",
        "pressoes = [60, 120, 140, 160, 180]\n",
        "temperaturas = [0, 25, 30, 35, 40]\n",
        "\n",
        "divide_colunas(pressoes, temperaturas)"
      ]
    },
    {
      "cell_type": "code",
      "execution_count": 60,
      "id": "929dd25a",
      "metadata": {
        "id": "929dd25a",
        "outputId": "027f0316-2973-4213-f32f-c75e31c52cdb",
        "colab": {
          "base_uri": "https://localhost:8080/"
        }
      },
      "outputs": [
        {
          "output_type": "stream",
          "name": "stdout",
          "text": [
            "As listas precisam ter o mesmo tamanho\n"
          ]
        }
      ],
      "source": [
        "# Testando no exemplo que lança exceção (ValueError)\n",
        "pressoes = [100, 120, 140, 160]\n",
        "temperaturas = [20, 25, 30, 35, 40]\n",
        "\n",
        "divide_colunas(pressoes, temperaturas)"
      ]
    }
  ],
  "metadata": {
    "kernelspec": {
      "display_name": ".venv",
      "language": "python",
      "name": "python3"
    },
    "language_info": {
      "codemirror_mode": {
        "name": "ipython",
        "version": 3
      },
      "file_extension": ".py",
      "mimetype": "text/x-python",
      "name": "python",
      "nbconvert_exporter": "python",
      "pygments_lexer": "ipython3",
      "version": "3.13.2"
    },
    "colab": {
      "provenance": []
    }
  },
  "nbformat": 4,
  "nbformat_minor": 5
}