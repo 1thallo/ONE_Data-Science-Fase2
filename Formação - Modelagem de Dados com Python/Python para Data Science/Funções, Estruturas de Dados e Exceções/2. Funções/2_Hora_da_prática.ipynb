{
  "cells": [
    {
      "cell_type": "markdown",
      "metadata": {
        "id": "view-in-github",
        "colab_type": "text"
      },
      "source": [
        "<a href=\"https://colab.research.google.com/github/1thallo/Oracle_Next_Education-Fase2/blob/main/Forma%C3%A7%C3%A3o%20-%20Modelagem%20de%20Dados%20com%20Python/Python%20para%20Data%20Science/Fun%C3%A7%C3%B5es%2C%20Estruturas%20de%20Dados%20e%20Exce%C3%A7%C3%B5es/2.%20Fun%C3%A7%C3%B5es/2_Hora_da_pr%C3%A1tica.ipynb\" target=\"_parent\"><img src=\"https://colab.research.google.com/assets/colab-badge.svg\" alt=\"Open In Colab\"/></a>"
      ]
    },
    {
      "cell_type": "markdown",
      "id": "ca521aef",
      "metadata": {
        "id": "ca521aef"
      },
      "source": [
        "## Aula 2 - Funções"
      ]
    },
    {
      "cell_type": "markdown",
      "id": "983c921a",
      "metadata": {
        "id": "983c921a"
      },
      "source": [
        "### Aquecimento"
      ]
    },
    {
      "cell_type": "markdown",
      "id": "8db64c36",
      "metadata": {
        "id": "8db64c36"
      },
      "source": [
        "#### Questão 1\n",
        "\n",
        "Escreva um código que lê a lista abaixo e faça:\n",
        "\n",
        "```\n",
        "lista = [16, 14, 63, 65, 17, 99, 70, 11, 20, 48, 79, 32, 17, 89, 12, 25, 66]\n",
        "```\n",
        "\n",
        "- A leitura do tamanho da lista\n",
        "- A leitura do maior e menor valor\n",
        "- A soma dos valores da lista\n",
        "\n",
        "Ao final exiba uma mensagem dizendo:\n",
        "\n",
        "```\n",
        "\"A lista possui [tam] números em que o maior número é [maior] e o menor número é [menor]. A soma dos valores pares presentes nela é igual a [soma]\"\n",
        "```\n",
        "\n",
        "> Dica: use as funções embutidas presentes na [documentação do Python](https://docs.python.org/3/library/functions.html)\n"
      ]
    },
    {
      "cell_type": "code",
      "execution_count": null,
      "id": "d856c14d",
      "metadata": {
        "id": "d856c14d",
        "outputId": "2e12751c-602c-437e-b224-a866f1be0d95"
      },
      "outputs": [
        {
          "name": "stdout",
          "output_type": "stream",
          "text": [
            "A lista possui 17 números em que o maior número é 99 e o menor número é 11. A soma dos valores pares presentes nela é igual a 743\n"
          ]
        }
      ],
      "source": [
        "lista = [16, 14, 63, 65, 17, 99, 70, 11, 20, 48, 79, 32, 17, 89, 12, 25, 66]\n",
        "\n",
        "tam = len(lista)\n",
        "maior = max(lista)\n",
        "menor = min(lista)\n",
        "soma = sum(lista)\n",
        "\n",
        "print(f\"A lista possui {tam} números em que o maior número é {maior} e o menor número é {menor}. A soma dos valores pares presentes nela é igual a {soma}\")"
      ]
    },
    {
      "cell_type": "markdown",
      "id": "c3441e63",
      "metadata": {
        "id": "c3441e63"
      },
      "source": [
        "#### Questão 2\n",
        "\n",
        "Escreva uma função que gere a tabuada de um número inteiro de 1 a 10, de acordo com a escolha da pessoa usuária. Como exemplo, para o número 7, a tabuada deve ser mostrada no seguinte formato:\n",
        "```\n",
        "Tabuada do 7:\n",
        "7 x 0 = 0\n",
        "7 x 1 = 7\n",
        "[...]\n",
        "7 x 10 = 70\n",
        "```\n"
      ]
    },
    {
      "cell_type": "code",
      "execution_count": null,
      "id": "f41b6542",
      "metadata": {
        "id": "f41b6542",
        "outputId": "405c122c-9c5c-4d8c-970c-f8256ac790d6"
      },
      "outputs": [
        {
          "name": "stdout",
          "output_type": "stream",
          "text": [
            "Erro: Insira um número inteiro!\n",
            "Tabuada do 7:\n",
            "7 x 0 = 0\n",
            "7 x 1 = 7\n",
            "7 x 2 = 14\n",
            "7 x 3 = 21\n",
            "7 x 4 = 28\n",
            "7 x 5 = 35\n",
            "7 x 6 = 42\n",
            "7 x 7 = 49\n",
            "7 x 8 = 56\n",
            "7 x 9 = 63\n",
            "7 x 10 = 70\n"
          ]
        }
      ],
      "source": [
        "def tabuada(num):\n",
        "    print(f\"Tabuada do {num}:\")\n",
        "    for i in range(11):\n",
        "        print(f\"{num} x {i} = {num * i}\")\n",
        "\n",
        "while 1 == 1:\n",
        "    try:\n",
        "        numero = int(input(\"Insira um número para calcular a tabuada: \"))\n",
        "        break\n",
        "    except ValueError:\n",
        "        print(f\"Erro: Insira um número inteiro!\")\n",
        "        continue\n",
        "\n",
        "tabuada(numero)\n"
      ]
    },
    {
      "cell_type": "markdown",
      "id": "77c752ea",
      "metadata": {
        "id": "77c752ea"
      },
      "source": [
        "#### Questão 3\n",
        "Crie a função que leia a lista abaixo e retorne uma nova lista com os múltiplos de 3:\n",
        "\n",
        "```\n",
        "[97, 80, 94, 88, 80, 1, 16, 53, 62, 32, 24, 99]\n",
        "```\n",
        "\n",
        "Utilize o `return` na função e salve a nova lista na variável `mult_3`."
      ]
    },
    {
      "cell_type": "code",
      "execution_count": null,
      "id": "50d4f9b8",
      "metadata": {
        "id": "50d4f9b8",
        "outputId": "a85466ef-f925-4f81-b761-b46895de1feb"
      },
      "outputs": [
        {
          "data": {
            "text/plain": [
              "[24, 99, 12]"
            ]
          },
          "execution_count": 3,
          "metadata": {},
          "output_type": "execute_result"
        }
      ],
      "source": [
        "lista = [97, 80, 94, 88, 80, 1, 16, 53, 62, 32, 24, 99, 12] #add nº 12\n",
        "\n",
        "def multiplo_3 (v_lista):\n",
        "    mult_3 = [num for num in v_lista if num % 3 == 0]\n",
        "    return mult_3\n",
        "\n",
        "multiplo_3(lista)"
      ]
    },
    {
      "cell_type": "markdown",
      "id": "24e51b55",
      "metadata": {
        "id": "24e51b55"
      },
      "source": [
        "#### Questão 4\n",
        "Crie uma lista dos quadrados dos números da seguinte lista `[1, 2, 3, 4, 5, 6, 7, 8, 9, 10]`.\n",
        "\n",
        "Lembre-se de utilizar as funções lambda e `map()` para calcular o quadrado de cada elemento da lista.\n"
      ]
    },
    {
      "cell_type": "code",
      "execution_count": null,
      "id": "f3cf5eef",
      "metadata": {
        "id": "f3cf5eef",
        "outputId": "aaa41f2d-be35-40fa-91b2-b6886d86e607"
      },
      "outputs": [
        {
          "name": "stdout",
          "output_type": "stream",
          "text": [
            "Lista: [1, 2, 3, 4, 5, 6, 7, 8, 9, 10]\n",
            "Lista dos números ao quadrado: [1, 4, 9, 16, 25, 36, 49, 64, 81, 100]\n"
          ]
        }
      ],
      "source": [
        "lista = [1, 2, 3, 4, 5, 6, 7, 8, 9, 10]\n",
        "\n",
        "lista_quadrado = list(map(lambda x: x * x, lista))\n",
        "\n",
        "print(f\"Lista: {lista}\")\n",
        "print(f\"Lista dos números ao quadrado: {lista_quadrado}\")"
      ]
    },
    {
      "cell_type": "markdown",
      "id": "85b7afeb",
      "metadata": {
        "id": "85b7afeb"
      },
      "source": [
        "### Aplicando a projetos"
      ]
    },
    {
      "cell_type": "markdown",
      "id": "7721e7c9",
      "metadata": {
        "id": "7721e7c9"
      },
      "source": [
        "#### Questão 5\n",
        "\n",
        "Você foi contratado(a) como cientista de dados de uma associação de skate. Para analisar as notas recebidas dos(as) skatistas em algumas competições ao longo do ano, você precisa criar um código que calcula a pontuação dos(as) atletas. Para isso, o seu código deve receber 5 notas digitadas pelas pessoas juradas.\n",
        "\n",
        "Para calcular a pontuação de um(a) skatista, você precisa eliminar a maior e a menor pontuação dentre as 5 notas e tirar a média das 3 notas que sobraram.\n",
        "\n",
        "Retorne a média para apresentar o texto:\n",
        "`\"Nota da manobra: [media]\"`\n",
        "\n"
      ]
    },
    {
      "cell_type": "code",
      "execution_count": null,
      "id": "48d5afdb",
      "metadata": {
        "id": "48d5afdb",
        "outputId": "169a8ddb-eb0e-46ba-e1bd-a0ca1c741d07"
      },
      "outputs": [
        {
          "name": "stdout",
          "output_type": "stream",
          "text": [
            " ---------- Resultado da Manobra ----------\n",
            "Notas: [8.8, 9.3, 8.5]\n",
            "Nota Geral: 8.9\n",
            "\n"
          ]
        }
      ],
      "source": [
        "notas = []\n",
        "\n",
        "for i in range(1, 6):\n",
        "    while True:\n",
        "        try:\n",
        "            nota = float(input(f\"Nota {i}: \"))\n",
        "            notas.append(nota)\n",
        "            break\n",
        "        except ValueError:\n",
        "            print(\"Digite um número válido.\")\n",
        "            continue\n",
        "\n",
        "def media(lista):\n",
        "    lista.remove(max(lista))\n",
        "    lista.remove(min(lista))\n",
        "    return sum(lista) / len(lista)\n",
        "\n",
        "media = media(notas)\n",
        "print(f\"\"\" ---------- Resultado da Manobra ----------\n",
        "Notas: {notas}\n",
        "Nota Geral: {round(media,1)}\n",
        "\"\"\")"
      ]
    },
    {
      "cell_type": "markdown",
      "id": "037789ae",
      "metadata": {
        "id": "037789ae"
      },
      "source": [
        "#### Questão 6\n",
        "\n",
        "Para atender a uma demanda de uma instituição de ensino para a análise do desempenho de seus(suas) estudantes, você precisa criar uma função que receba uma lista de 4 notas e retorne:\n",
        "- maior nota\n",
        "- menor nota\n",
        "- média\n",
        "- situação (Aprovado(a) ou Reprovado(a))\n",
        "\n",
        "Para testar o comportamento da função, os dados podem ser exibidos em um texto:\n",
        "```\n",
        "\"O(a) estudante obteve uma media de [media], com a sua maior nota de [maior] pontos e a menor nota de [menor] pontos e foi [situacao]\"\n",
        "```"
      ]
    },
    {
      "cell_type": "code",
      "execution_count": null,
      "id": "17173906",
      "metadata": {
        "id": "17173906",
        "outputId": "9870c228-9873-4e3e-e6a3-40da1b4cf0e7"
      },
      "outputs": [
        {
          "name": "stdout",
          "output_type": "stream",
          "text": [
            "Erro: Insira um número válido! Valor inserido: A+\n",
            "Erro: Insira um número válido! Valor inserido: C-\n",
            "Erro: Insira um número válido! Valor inserido: F\n",
            "\n",
            "Notas: [8.8, 7.7, 6.6, 5.5]\n",
            "O(a) estudante obteve uma média de 7.15, com a maior nota de 8.8 pontos e a menor nota de 5.5 pontos e foi Aprovado(a)!\n",
            "\n",
            "---------- Tentativas Inválidas ----------\n",
            "Valores inválidos inseridos durante a execução: ['A+', 'C-', 'F']\n"
          ]
        }
      ],
      "source": [
        "notasQ6 = []\n",
        "lista_invalidos = []\n",
        "\n",
        "for i in range(1, 5):\n",
        "    while True:\n",
        "        entrada = input(f\"Insira a nota {i}: \")\n",
        "        try:\n",
        "            notaQ6 = float(entrada)\n",
        "            notasQ6.append(notaQ6)\n",
        "            break\n",
        "        except ValueError:\n",
        "            lista_invalidos.append(entrada)\n",
        "            print(f\"Erro: Insira um número válido! Valor inserido: {entrada}\")\n",
        "            continue\n",
        "\n",
        "def desempenho(v_lista):\n",
        "    maior = max(v_lista)\n",
        "    menor = min(v_lista)\n",
        "    media = sum(v_lista) / len(v_lista)\n",
        "    situacao = \"Aprovado(a)\" if 6 <= media <= 10 else \"Reprovado(a)\"\n",
        "    return maior, menor, media, situacao\n",
        "\n",
        "maior, menor, media, situacao = desempenho(notasQ6)\n",
        "print(f\"\\nNotas: {notasQ6}\")\n",
        "print(f\"O(a) estudante obteve uma média de {round(media, 2)}, com a maior nota de {maior} pontos e a menor nota de {menor} pontos e foi {situacao}!\")\n",
        "\n",
        "if lista_invalidos:\n",
        "    print(f\"\\n---------- Tentativas Inválidas ----------\\nValores inválidos inseridos durante a execução: {lista_invalidos}\")\n"
      ]
    },
    {
      "cell_type": "markdown",
      "id": "82868b72",
      "metadata": {
        "id": "82868b72"
      },
      "source": [
        "#### Questão 7\n",
        "\n",
        "Você recebeu uma demanda para tratar 2 listas com os nomes e sobrenomes de cada estudante concatenando-as para apresentar seus nomes completos na forma `Nome Sobrenome`.\n",
        "\n",
        "As listas são:\n",
        "```\n",
        "nomes = [\"joão\", \"MaRia\", \"JOSÉ\"]\n",
        "sobrenomes = [\"SILVA\", \"souza\", \"Tavares\"]\n",
        "```\n",
        "\n",
        "O texto exibido ao fim deve ser parecido com:\n",
        "```\n",
        "\"Nome completo: Ana Silva\"\n",
        "```\n",
        "\n",
        "> Dica: Utilize a função map para mapear os nomes e sobrenomes e as funções de string para tratar o texto."
      ]
    },
    {
      "cell_type": "code",
      "execution_count": null,
      "id": "3a445280",
      "metadata": {
        "id": "3a445280",
        "outputId": "1bcc7339-10e4-4f57-e43d-fb346c30f5ba"
      },
      "outputs": [
        {
          "name": "stdout",
          "output_type": "stream",
          "text": [
            "________ Nomes Formatados ________\n",
            "\n",
            "Nome completo: João Silva\n",
            "Nome completo: Maria Souza\n",
            "Nome completo: José Tavares\n"
          ]
        }
      ],
      "source": [
        "nomes = [\"joão\", \"MaRia\", \"JOSÉ\"]\n",
        "sobrenomes = [\"SILVA\", \"souza\", \"Tavares\"]\n",
        "\n",
        "nome_completo = list(map(lambda x, y: f\"{x.strip().capitalize()} {y.strip().capitalize()}\", nomes, sobrenomes))\n",
        "\n",
        "print(\"________ Nomes Formatados ________\\n\")\n",
        "for _ in nome_completo:\n",
        "    print(f\"Nome completo: {_}\")"
      ]
    },
    {
      "cell_type": "markdown",
      "id": "5048d214",
      "metadata": {
        "id": "5048d214"
      },
      "source": [
        "#### Questão 8\n",
        "Como cientista de dados em um time de futebol, você precisa implementar novas formas de coleta de dados sobre o desempenho de jogadores e do time como um todo.\n",
        "\n",
        "Sua primeira ação é criar uma forma de calcular a pontuação do time no campeonato nacional a partir dos dados de gols marcados e sofridos em cada jogo.\n",
        "\n",
        "Escreva uma função chamada `calcula_pontos` que recebe como parâmetros duas listas de números inteiros, representando os gols marcados e sofridos pelo time em cada partida do campeonato.\n",
        "\n",
        "A função deve retornar a pontuação do time e o aproveitamento em percentual, levando em consideração que a vitória vale 3 pontos, o empate vale 1 ponto e a derrota 0 pontos.\n",
        "\n",
        "> Observação: Se a quantidade de gols marcados numa partida for maior que a de sofridos, o time venceu. Caso seja igual, o time empatou e se for menor, o time perdeu. Para calcular o aproveitamento devemos fazer a razão entre a pontuação do time pela pontuação máxima que ele poderia receber.\n",
        "\n",
        "Para teste, utilize as seguintes listas de gols marcados e sofridos\n",
        "```\n",
        "gols_marcados = [2, 1, 3, 1, 0]\n",
        "gols_sofridos = [1, 2, 2, 1, 3]\n",
        "```\n",
        "\n",
        "Provável texto exibido:\n",
        "```\n",
        "\"A pontuação do time foi de [pontos] e seu aproveitamento foi de [aprov]%\"\n",
        "```\n"
      ]
    },
    {
      "cell_type": "code",
      "execution_count": 3,
      "id": "9bb8c053",
      "metadata": {
        "id": "9bb8c053",
        "outputId": "bbf055cb-e469-44ac-a699-763321157d59",
        "colab": {
          "base_uri": "https://localhost:8080/"
        }
      },
      "outputs": [
        {
          "output_type": "stream",
          "name": "stdout",
          "text": [
            "A pontuação do time foi de 7 e seu aproveitamento foi de 46.67%\n"
          ]
        }
      ],
      "source": [
        "l_gols_marcados = [2, 1, 3, 1, 0]\n",
        "l_gols_sofridos = [1, 2, 2, 1, 3]\n",
        "## =====\n",
        "def calcula_pontos(v_gols_marcados, v_gols_sofridos):\n",
        "    pontuacao = 0\n",
        "    total_jogos = len(v_gols_marcados)\n",
        "    pontuacao_max = total_jogos * 3\n",
        "\n",
        "    for i in range(total_jogos):\n",
        "        if v_gols_marcados[i] > v_gols_sofridos[i]:\n",
        "            pontuacao += 3\n",
        "        elif v_gols_marcados[i] == v_gols_sofridos[i]:\n",
        "            pontuacao += 1\n",
        "\n",
        "    aproveitamento = (pontuacao / pontuacao_max) * 100\n",
        "    return pontuacao, round(aproveitamento, 2)\n",
        "\n",
        "## ======\n",
        "pontos, aprov = calcula_pontos(l_gols_marcados, l_gols_sofridos)\n",
        "print(f\"A pontuação do time foi de {pontos} e seu aproveitamento foi de {aprov}%\")"
      ]
    },
    {
      "cell_type": "markdown",
      "id": "afffcc4e",
      "metadata": {
        "id": "afffcc4e"
      },
      "source": [
        "#### Questão 9\n",
        "\n",
        "Você recebeu o desafio de criar um código que calcula os gastos de uma viagem para um das quatro cidades partindo de Recife: Salvador, Fortaleza, Natal e Aracaju.\n",
        "\n",
        "O custo da diária do hotel é de 150 reais em todas elas e o consumo de gasolina na viagem de carro é de 14 km/l, sendo que o valor da gasolina é de 5 reais o litro. O gastos com passeios e alimentação a se fazer em cada uma delas por dia seria de `[200, 400, 250, 300]`, respectivamente.\n",
        "\n",
        "Sabendo que as distâncias entre Recife e cada uma das cidades é de aproximadamente `[850, 800, 300, 550]` km, crie três funções nas quais a 1ª calcule os gastos com hotel (`gasto_hotel`), a 2ª calcule os gastos com a gasolina (`gasto_gasolina`) e a 3ª os gastos com passeio e alimentação (`gasto_passeio`).\n",
        "\n",
        "Para testar, simule uma viagem de 3 dias para Salvador partindo de Recife. Considere a viagem de ida e volta de carro.\n",
        "```\n",
        "\"Com base nos gastos definidos, uma viagem de [dias] dias para [cidade] saindo de Recife custaria [gastos] reais\"\n",
        "```\n"
      ]
    },
    {
      "cell_type": "code",
      "execution_count": 2,
      "id": "47976e93",
      "metadata": {
        "id": "47976e93",
        "outputId": "81c0f8f7-a3bb-401d-d751-2e7d17668983",
        "colab": {
          "base_uri": "https://localhost:8080/"
        }
      },
      "outputs": [
        {
          "output_type": "stream",
          "name": "stdout",
          "text": [
            "Quantas diárias? 3\n",
            "------ CIDADES ------\n",
            "1 - Salvador\n",
            "2 - Fortaleza\n",
            "3 - Natal\n",
            "4 - Aracaju\n",
            "Insira o número da cidade: 1\n",
            "\n",
            "Com base nos gastos definidos, uma viagem de 3 dias para Salvador saindo de Recife custaria R$ 1657.14.\n"
          ]
        }
      ],
      "source": [
        "distancias = [850, 800, 300, 550]\n",
        "passeio = [200, 400, 250, 300]\n",
        "km_l = 14\n",
        "gasolina = 5\n",
        "nomes_cidades = [\"Salvador\", \"Fortaleza\", \"Natal\", \"Aracaju\"]\n",
        "\n",
        "while True:\n",
        "    try:\n",
        "        dias = int(input(\"Quantas diárias? \"))\n",
        "        cidade = int(input(\"------ CIDADES ------\\n1 - Salvador\\n2 - Fortaleza\\n3 - Natal\\n4 - Aracaju\\nInsira o número da cidade: \"))\n",
        "        if cidade not in [1, 2, 3, 4]:\n",
        "            print(\"Escolha uma cidade válida (1 a 4).\")\n",
        "            continue\n",
        "        break\n",
        "    except ValueError:\n",
        "        print(\"Insira um número válido.\")\n",
        "\n",
        "def gasto_hotel(dias):\n",
        "    return 150 * dias\n",
        "\n",
        "def gasto_gasolina(cidade):\n",
        "    match cidade:\n",
        "        case 1:\n",
        "            return (2 * distancias[0] * gasolina) / km_l\n",
        "        case 2:\n",
        "            return (2 * distancias[1] * gasolina) / km_l\n",
        "        case 3:\n",
        "            return (2 * distancias[2] * gasolina) / km_l\n",
        "        case 4:\n",
        "            return (2 * distancias[3] * gasolina) / km_l\n",
        "\n",
        "def gasto_passeio(cidade, dias):\n",
        "    match cidade:\n",
        "        case 1:\n",
        "            return passeio[0] * dias\n",
        "        case 2:\n",
        "            return passeio[1] * dias\n",
        "        case 3:\n",
        "            return passeio[2] * dias\n",
        "        case 4:\n",
        "            return passeio[3] * dias\n",
        "\n",
        "gastos = gasto_hotel(dias) + gasto_gasolina(cidade) + gasto_passeio(cidade, dias)\n",
        "nome_cidade = nomes_cidades[cidade - 1]\n",
        "\n",
        "print(f\"\\nCom base nos gastos definidos, uma viagem de {dias} dias para {nome_cidade} saindo de Recife custaria R$ {round(gastos, 2)}.\")\n"
      ]
    },
    {
      "cell_type": "markdown",
      "id": "7a1dd38e",
      "metadata": {
        "id": "7a1dd38e"
      },
      "source": [
        "#### Questão 10\n",
        "\n",
        "Você iniciou um estágio em uma empresa que trabalha com processamento de linguagem natural ([NLP](https://www.alura.com.br/artigos/guia-nlp-conceitos-tecnicas)). Sua líder requisitou que você criasse um trecho de código que recebe uma frase digitada pela pessoa usuária e filtre apenas as palavras com tamanho maior ou igual a 5, exibindo-as em uma lista. Essa demanda é voltada para a análise do padrão de comportamento de pessoas na escrita de palavras acima dessa quantidade de caracteres.\n",
        "\n",
        "> Dica: utilize as funções lambda e [`filter()`](https://docs.python.org/pt-br/3/library/functions.html?highlight=filter#filter) para filtrar essas palavras. Lembrando que a função embutida `filter()` recebe uma função (no nosso exemplo uma função lambda) e filtra um iterável de acordo com a função. Para tratar a frase use `replace()` para trocar a ',' '.', '!' e '?' por espaço.\n",
        "\n",
        "Use a frase `\"Aprender Python aqui na Alura é muito bom\"`para testar o código"
      ]
    },
    {
      "cell_type": "code",
      "execution_count": 4,
      "id": "a480d2eb",
      "metadata": {
        "id": "a480d2eb",
        "outputId": "2239b167-b970-4e05-9f93-5b458a45cb28",
        "colab": {
          "base_uri": "https://localhost:8080/"
        }
      },
      "outputs": [
        {
          "output_type": "stream",
          "name": "stdout",
          "text": [
            "Digite uma frase: Aprender Python aqui na Alura é muito bom\n",
            "['Aprender', 'Python', 'Alura', 'muito']\n"
          ]
        }
      ],
      "source": [
        "frase = input(\"Digite uma frase: \")\n",
        "frase = frase.replace(',',' ').replace('.',' ').replace('!',' ').replace('?',' ').split()\n",
        "\n",
        "tamanho = list(filter(lambda x: len(x) >= 5, frase))\n",
        "print(tamanho)"
      ]
    }
  ],
  "metadata": {
    "kernelspec": {
      "display_name": ".venv",
      "language": "python",
      "name": "python3"
    },
    "language_info": {
      "codemirror_mode": {
        "name": "ipython",
        "version": 3
      },
      "file_extension": ".py",
      "mimetype": "text/x-python",
      "name": "python",
      "nbconvert_exporter": "python",
      "pygments_lexer": "ipython3",
      "version": "3.13.2"
    },
    "colab": {
      "provenance": [],
      "include_colab_link": true
    }
  },
  "nbformat": 4,
  "nbformat_minor": 5
}