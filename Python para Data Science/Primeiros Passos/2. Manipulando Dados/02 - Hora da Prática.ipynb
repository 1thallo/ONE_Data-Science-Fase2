{
 "cells": [
  {
   "cell_type": "markdown",
   "id": "c2f7dd65",
   "metadata": {},
   "source": [
    "## Aula 2 - Manipulando dados no Python"
   ]
  },
  {
   "cell_type": "markdown",
   "id": "6a5bc2ca",
   "metadata": {},
   "source": [
    "### Coleta e amostragem de dados"
   ]
  },
  {
   "cell_type": "markdown",
   "id": "e62607a1",
   "metadata": {},
   "source": [
    "#### Questão 1\n",
    "Crie um programa que solicite à pessoa usuária digitar seu nome, e imprima “Olá, [nome]!”."
   ]
  },
  {
   "cell_type": "code",
   "execution_count": 1,
   "id": "243e814a",
   "metadata": {},
   "outputs": [
    {
     "name": "stdout",
     "output_type": "stream",
     "text": [
      "Olá, Ithallo!\n"
     ]
    }
   ],
   "source": [
    "nomeQ1 = str(input('Escreva o seu nome: '))\n",
    "print(f'Olá, {nomeQ1}!')"
   ]
  },
  {
   "cell_type": "markdown",
   "id": "0ea2f140",
   "metadata": {},
   "source": [
    "#### Questão 2\n",
    "Crie um programa que solicite à pessoa usuária digitar seu nome e idade, e imprima “Olá, [nome], você tem [idade] anos.”."
   ]
  },
  {
   "cell_type": "code",
   "execution_count": 3,
   "id": "d7aee387",
   "metadata": {},
   "outputs": [
    {
     "name": "stdout",
     "output_type": "stream",
     "text": [
      "Olá, Ithallo Leandro, você tem 20 anos.\n"
     ]
    }
   ],
   "source": [
    "nomeQ2 = str(input(\"Solicito o seu nome: \"))\n",
    "idadeQ2 = int(input(\"Solicito a sua idade: \"))\n",
    "\n",
    "print(f\"Olá, {nomeQ2}, você tem {idadeQ2} anos.\") "
   ]
  },
  {
   "cell_type": "markdown",
   "id": "a4379554",
   "metadata": {},
   "source": [
    "#### Questão 3\n",
    "Crie um programa que solicite à pessoa usuária digitar seu nome, idade e altura em metros, e imprima “Olá, [nome], você tem [idade] anos e mede [altura] metros!”."
   ]
  },
  {
   "cell_type": "code",
   "execution_count": 4,
   "id": "d26eddde",
   "metadata": {},
   "outputs": [
    {
     "name": "stdout",
     "output_type": "stream",
     "text": [
      "Olá, Ithallo, você tem 20 anos e mede 1.85 metros!\n"
     ]
    }
   ],
   "source": [
    "nomeQ3 = str(input(\"Digite seu nome: \"))\n",
    "idadeQ3 = int(input(\"Digite sua idade: \"))\n",
    "alturaQ3 = float(input(\"Digite sua altura em metros: (x.xx) \"))   \n",
    "\n",
    "print(f\"Olá, {nomeQ3}, você tem {idadeQ3} anos e mede {alturaQ3} metros!\")"
   ]
  },
  {
   "cell_type": "markdown",
   "id": "939ad449",
   "metadata": {},
   "source": [
    "### Calculadora com operadores"
   ]
  },
  {
   "cell_type": "markdown",
   "id": "c409eea2",
   "metadata": {},
   "source": [
    "#### Questão 1\n",
    "\n",
    "Crie um programa que solicite dois valores numéricos à pessoa usuária e imprima a soma dos dois valores."
   ]
  },
  {
   "cell_type": "code",
   "execution_count": 6,
   "id": "7cdbeb07",
   "metadata": {},
   "outputs": [
    {
     "name": "stdout",
     "output_type": "stream",
     "text": [
      "-54.3 + 100.1 = 45.8\n"
     ]
    }
   ],
   "source": [
    "numero1Q1 = float(input(\"Digite um número: \"))\n",
    "numero2Q1 = float(input(\"Digite outro número: \"))\n",
    "\n",
    "print(f\"{numero1Q1} + {numero2Q1} = {numero1Q1 + numero2Q1}\")"
   ]
  },
  {
   "cell_type": "markdown",
   "id": "6921dc19",
   "metadata": {},
   "source": [
    "#### Questão 2\n",
    "Crie um programa que solicite três valores numéricos à pessoa usuária e imprima a soma dos três valores."
   ]
  },
  {
   "cell_type": "code",
   "execution_count": 9,
   "id": "c78859d1",
   "metadata": {},
   "outputs": [
    {
     "name": "stdout",
     "output_type": "stream",
     "text": [
      "A soma de 20 + 30 + 40 = 90\n"
     ]
    }
   ],
   "source": [
    "numero1Q2 = int(input(\"Digite o número 1:  \"))\n",
    "numero2Q2 = int(input(\"Digite o número 2:  \"))\n",
    "numero3Q2 = int(input(\"Digite o número 3:  \"))\n",
    "\n",
    "print(f\"A soma de {numero1Q2} + {numero2Q2} + {numero3Q2} = {numero3Q2 + numero2Q2 + numero1Q2}\")"
   ]
  },
  {
   "cell_type": "markdown",
   "id": "128ff48b",
   "metadata": {},
   "source": [
    "#### Questão 3\n",
    "Crie um programa que solicite dois valores numéricos à pessoa usuária e imprima a subtração do primeiro pelo o segundo valor."
   ]
  },
  {
   "cell_type": "code",
   "execution_count": 5,
   "id": "fd537fc0",
   "metadata": {},
   "outputs": [
    {
     "name": "stdout",
     "output_type": "stream",
     "text": [
      "A subtração de 10.0 - 15.0 = -5.0\n"
     ]
    }
   ],
   "source": [
    "numero1Q3 = float(input(\"Digite um número: \"))\n",
    "numero2Q3 = float(input(\"Digite outro número: \"))\n",
    "\n",
    "print(f\"A subtração de {numero1Q3} - {numero2Q3} = {numero1Q3 - numero2Q3}\")"
   ]
  },
  {
   "cell_type": "markdown",
   "id": "ba965fd2",
   "metadata": {},
   "source": [
    "#### Questão 4\n",
    "\n",
    "Crie um programa que solicite dois valores numéricos à pessoa usuária e imprima a multiplicação dos dois valores.\n"
   ]
  },
  {
   "cell_type": "code",
   "execution_count": 10,
   "id": "e13ffc28",
   "metadata": {},
   "outputs": [
    {
     "name": "stdout",
     "output_type": "stream",
     "text": [
      "5 * 10 = 50\n"
     ]
    }
   ],
   "source": [
    "numero1Q4 = int(input(\"Insira um número: \"))\n",
    "numero2Q4 = int(input(\"Insira outro número: \"))\n",
    "\n",
    "print(f\"{numero1Q4} * {numero2Q4} = {numero1Q4 * numero2Q4}\")"
   ]
  },
  {
   "cell_type": "markdown",
   "id": "8439e62a",
   "metadata": {},
   "source": [
    "#### Questão 5\n",
    "\n",
    "Crie um programa que solicite dois valores numéricos, um numerador e um denominador, e realize a divisão entre os dois valores. Deixe claro que o valor do denominador não pode ser `0`.\n"
   ]
  },
  {
   "cell_type": "code",
   "execution_count": 32,
   "id": "a3a8831a",
   "metadata": {},
   "outputs": [
    {
     "name": "stdout",
     "output_type": "stream",
     "text": [
      "Divisão: 10 / 3 = 3.3333333333333335\n"
     ]
    }
   ],
   "source": [
    "numero1Q5 = int(input(\"Insira o numerador: \"))\n",
    "numero2Q5 = int(input(\"Insira o denominador: \"))\n",
    "\n",
    "\n",
    "if numero2Q5 == 0:\n",
    "    print(\"Não é possível dividir por 0\")\n",
    "else:\n",
    "    print(f\"Divisão: {numero1Q5} / {numero2Q5} = {(numero1Q5 / numero2Q5)}\")"
   ]
  },
  {
   "cell_type": "markdown",
   "id": "d76f86a1",
   "metadata": {},
   "source": [
    "#### Questão 6\n",
    "\n",
    "Crie um programa que solicite dois valores numéricos, um operador e uma potência, e realize a exponenciação entre esses dois valores.\n"
   ]
  },
  {
   "cell_type": "code",
   "execution_count": 25,
   "id": "b3e737a8",
   "metadata": {},
   "outputs": [
    {
     "name": "stdout",
     "output_type": "stream",
     "text": [
      "5^2 = 25\n"
     ]
    }
   ],
   "source": [
    "numero1Q6 = int(input(\"Insira o operador: \"))\n",
    "numero2Q6 = int(input(\"Insira a potência: \"))\n",
    "\n",
    "print(f\"{numero1Q6}^{numero2Q6} = {numero1Q6 ** numero2Q6}\")"
   ]
  },
  {
   "cell_type": "markdown",
   "id": "e6326e04",
   "metadata": {},
   "source": [
    "#### Questão 7\n",
    "Crie um programa que solicite dois valores numéricos, um numerador e um denominador e realize a divisão inteira entre os dois valores. Deixe claro que o valor do denominador não pode ser `0`."
   ]
  },
  {
   "cell_type": "code",
   "execution_count": 29,
   "id": "32c33bb9",
   "metadata": {},
   "outputs": [
    {
     "name": "stdout",
     "output_type": "stream",
     "text": [
      "Divisão: 100 / 10 = 10\n"
     ]
    }
   ],
   "source": [
    "numero1Q7 = int(input(\"Insira o numerador: \"))\n",
    "numero2Q7 = int(input(\"Insira o denominador (!= 0): \"))\n",
    "\n",
    "\n",
    "if numero2Q5 == 0:\n",
    "    print(\"Não é possível dividir por 0\")\n",
    "else:\n",
    "    print(f\"Divisão: {numero1Q7} / {numero2Q7} = {int(numero1Q7 / numero2Q7)}\")"
   ]
  },
  {
   "cell_type": "markdown",
   "id": "47d3bfb2",
   "metadata": {},
   "source": [
    "#### Questão 8\n",
    "\n",
    "Crie um programa que solicite dois valores numéricos, um numerador e um denominador, e retorne o resto da divisão entre os dois valores. Deixe claro que o valor do denominador não pode ser `0`."
   ]
  },
  {
   "cell_type": "code",
   "execution_count": 31,
   "id": "54458038",
   "metadata": {},
   "outputs": [
    {
     "name": "stdout",
     "output_type": "stream",
     "text": [
      "Divisão: 100 / 3 = 33\n",
      "Resto: 1\n"
     ]
    }
   ],
   "source": [
    "numero1Q8 = int(input(\"Insira o numerador: \"))\n",
    "numero2Q8 = int(input(\"Insira o denominador: \"))\n",
    "\n",
    "\n",
    "if numero2Q8 == 0:\n",
    "    print(\"Não é possível dividir por 0\")\n",
    "else:\n",
    "    print(f\"Divisão: {numero1Q8} / {numero2Q8} = {int(numero1Q8 / numero2Q8)}\\nResto: {numero1Q8 % numero2Q8}\")"
   ]
  },
  {
   "cell_type": "markdown",
   "id": "72e4f220",
   "metadata": {},
   "source": [
    "#### Questão 9\n",
    "\n",
    "Crie um código que solicita 3 notas de um estudante e imprima a média das notas."
   ]
  },
  {
   "cell_type": "code",
   "execution_count": 34,
   "id": "dfebba50",
   "metadata": {},
   "outputs": [
    {
     "name": "stdout",
     "output_type": "stream",
     "text": [
      "Média: 6.17\n"
     ]
    }
   ],
   "source": [
    "nota1 = float(input(\"Insira a nota 1: \"))\n",
    "nota2 = float(input(\"Insira a nota 2: \"))\n",
    "nota3 = float(input(\"Insira a nota 3: \"))\n",
    "\n",
    "media = (nota1 + nota2 + nota3) / 3\n",
    "\n",
    "print(f\"Média: {media:.2f}\")"
   ]
  },
  {
   "cell_type": "markdown",
   "id": "86a0c19a",
   "metadata": {},
   "source": [
    "#### Questão 10\n",
    "\n",
    "Crie um código que calcule e imprima a média ponderada dos números 5, 12, 20 e 15 com pesos respectivamente iguais a 1, 2, 3 e 4."
   ]
  },
  {
   "cell_type": "code",
   "execution_count": null,
   "id": "f4780931",
   "metadata": {},
   "outputs": [
    {
     "data": {
      "text/plain": [
       "14.9"
      ]
     },
     "execution_count": 37,
     "metadata": {},
     "output_type": "execute_result"
    }
   ],
   "source": [
    "numeros = [5, 12, 20, 15]\n",
    "pesos = [1, 2, 3, 4]\n",
    "\n",
    "media_ponderada = sum(num * peso for num, peso in zip(numeros,pesos)) / sum(pesos)\n",
    "\n",
    "media_ponderada"
   ]
  },
  {
   "cell_type": "markdown",
   "id": "68c1220b",
   "metadata": {},
   "source": [
    "### Editando textos"
   ]
  },
  {
   "cell_type": "markdown",
   "id": "79a02ff0",
   "metadata": {},
   "source": [
    "#### Questão 1\n",
    "\n",
    "Crie uma variável chamada “`frase`” e atribua a ela uma string de sua escolha. Em seguida, imprima a frase na tela."
   ]
  },
  {
   "cell_type": "code",
   "execution_count": 53,
   "id": "814d39d6",
   "metadata": {},
   "outputs": [
    {
     "data": {
      "text/plain": [
       "'Frase da minha escolha'"
      ]
     },
     "execution_count": 53,
     "metadata": {},
     "output_type": "execute_result"
    }
   ],
   "source": [
    "fraseQ1 = 'Frase da minha escolha'\n",
    "\n",
    "fraseQ1"
   ]
  },
  {
   "cell_type": "markdown",
   "id": "f062efa6",
   "metadata": {},
   "source": [
    "#### Questão 2\n",
    "Crie um código que solicite uma frase e depois imprima a frase na tela."
   ]
  },
  {
   "cell_type": "code",
   "execution_count": 54,
   "id": "2d67ef9a",
   "metadata": {},
   "outputs": [
    {
     "name": "stdout",
     "output_type": "stream",
     "text": [
      "Frase inserida: \"Bom dia, boa tarde e boa noite!\"\n"
     ]
    }
   ],
   "source": [
    "fraseQ2 = input(\"Insira uma frase: \")\n",
    "\n",
    "print(f\"Frase inserida: \\\"{fraseQ2}\\\"\")"
   ]
  },
  {
   "cell_type": "markdown",
   "id": "7b2153b6",
   "metadata": {},
   "source": [
    "#### Questão 3\n",
    "\n",
    "Crie um código que solicite uma frase à pessoa usuária e imprima a mesma frase digitada mas com todas as letras maiúsculas."
   ]
  },
  {
   "cell_type": "code",
   "execution_count": 55,
   "id": "e77176b3",
   "metadata": {},
   "outputs": [
    {
     "name": "stdout",
     "output_type": "stream",
     "text": [
      "Frase inserida: aluno oracle next education g8\n",
      "Frase inserida em maiusculo: ALUNO ORACLE NEXT EDUCATION G8\n"
     ]
    }
   ],
   "source": [
    "fraseQ3 = input(\"Insira uma frase: \")\n",
    "\n",
    "print(f\"Frase inserida: {fraseQ3}\")\n",
    "print(f\"Frase inserida em maiusculo: {fraseQ3.upper()}\")"
   ]
  },
  {
   "cell_type": "markdown",
   "id": "090b08b3",
   "metadata": {},
   "source": [
    "#### Questão 4\n",
    "\n",
    "Crie um código que solicite uma frase à pessoa usuária e imprima a mesma frase digitada mas com todas as letras minúsculas."
   ]
  },
  {
   "cell_type": "code",
   "execution_count": 56,
   "id": "71d2aa99",
   "metadata": {},
   "outputs": [
    {
     "name": "stdout",
     "output_type": "stream",
     "text": [
      "Frase inserida: MEU NOME É ITHALLO\n",
      "Frase inserida em minusculo: meu nome é ithallo\n"
     ]
    }
   ],
   "source": [
    "fraseQ4 = input(\"Insira uma frase: \")\n",
    "\n",
    "print(f\"Frase inserida: {fraseQ4}\")\n",
    "print(f\"Frase inserida em minusculo: {fraseQ4.lower()}\")"
   ]
  },
  {
   "cell_type": "markdown",
   "id": "093f680e",
   "metadata": {},
   "source": [
    "#### Questão 5\n",
    "\n",
    "Crie uma variável chamada “`frase`” e atribua a ela uma string de sua escolha. Em seguida, imprima a frase sem espaços em branco no início e no fim."
   ]
  },
  {
   "cell_type": "code",
   "execution_count": 58,
   "id": "9c326191",
   "metadata": {},
   "outputs": [
    {
     "data": {
      "text/plain": [
       "'Me chamo Ithallo'"
      ]
     },
     "execution_count": 58,
     "metadata": {},
     "output_type": "execute_result"
    }
   ],
   "source": [
    "fraseQ5 = '           Me chamo Ithallo         '\n",
    "\n",
    "fraseQ5.strip()"
   ]
  },
  {
   "cell_type": "markdown",
   "id": "06fbe2a3",
   "metadata": {},
   "source": [
    "#### Questão 6\n",
    "\n",
    "Crie um código que solicite uma frase à pessoa usuária e imprima a mesma frase sem espaços em branco no início e no fim."
   ]
  },
  {
   "cell_type": "code",
   "execution_count": null,
   "id": "47f1ef4a",
   "metadata": {},
   "outputs": [
    {
     "data": {
      "text/plain": [
       "'Frase inserida com espaços'"
      ]
     },
     "execution_count": 60,
     "metadata": {},
     "output_type": "execute_result"
    }
   ],
   "source": [
    "fraseQ6 = input(\"Insira uma frase: \")\n",
    "\n",
    "fraseQ6.strip()"
   ]
  },
  {
   "cell_type": "markdown",
   "id": "01dd319b",
   "metadata": {},
   "source": [
    "#### Questão 7\n",
    "\n",
    "\n",
    "Crie um código que solicite uma frase à pessoa usuária e imprima a mesma frase sem espaços em branco no início e no fim e em letras minúsculas."
   ]
  },
  {
   "cell_type": "code",
   "execution_count": 62,
   "id": "fd392088",
   "metadata": {},
   "outputs": [
    {
     "name": "stdout",
     "output_type": "stream",
     "text": [
      "ESTOU INSERINDO UMA FRASE\n"
     ]
    },
    {
     "data": {
      "text/plain": [
       "'estou inserindo uma frase'"
      ]
     },
     "execution_count": 62,
     "metadata": {},
     "output_type": "execute_result"
    }
   ],
   "source": [
    "fraseQ7 = input(\"Insira uma frase: \")\n",
    "\n",
    "print(fraseQ7)\n",
    "fraseQ7.strip().lower()"
   ]
  },
  {
   "cell_type": "markdown",
   "id": "38e14953",
   "metadata": {},
   "source": [
    "#### Questão 8\n",
    "\n",
    "Crie um código que solicite uma frase à pessoa usuária e imprima a mesma frase com todas as vogais “`e`” trocadas pela letra “`f`”."
   ]
  },
  {
   "cell_type": "code",
   "execution_count": 65,
   "id": "d5229653",
   "metadata": {},
   "outputs": [
    {
     "name": "stdout",
     "output_type": "stream",
     "text": [
      "elefante e elegante\n"
     ]
    },
    {
     "data": {
      "text/plain": [
       "'flffantf f flfgantf'"
      ]
     },
     "execution_count": 65,
     "metadata": {},
     "output_type": "execute_result"
    }
   ],
   "source": [
    "fraseQ8 = input(\"Insira uma frase: \")\n",
    "\n",
    "print(fraseQ8)\n",
    "fraseQ8.replace('e', 'f')"
   ]
  },
  {
   "cell_type": "markdown",
   "id": "6af51b94",
   "metadata": {},
   "source": [
    "#### Questão 9\n",
    "\n",
    "\n",
    "Crie um código que solicite uma frase à pessoa usuária e imprima a mesma frase com todas as vogais “`a`” trocadas pela caractere  “`@`”."
   ]
  },
  {
   "cell_type": "code",
   "execution_count": 66,
   "id": "e8c616e7",
   "metadata": {},
   "outputs": [
    {
     "name": "stdout",
     "output_type": "stream",
     "text": [
      "agora a coisa vai ficar feia\n"
     ]
    },
    {
     "data": {
      "text/plain": [
       "'@gor@ @ cois@ v@i fic@r fei@'"
      ]
     },
     "execution_count": 66,
     "metadata": {},
     "output_type": "execute_result"
    }
   ],
   "source": [
    "fraseQ9 = input(\"Insira uma frase: \")\n",
    "\n",
    "print(fraseQ9)\n",
    "fraseQ9.replace('a', '@')"
   ]
  },
  {
   "cell_type": "markdown",
   "id": "e37fb83f",
   "metadata": {},
   "source": [
    "#### Questão 10\n",
    "\n",
    "\n",
    "Crie um código que solicite uma frase à pessoa usuária e imprima a mesma frase com todas as consoantes “`s`” trocadas pelo caractere  “`$`”."
   ]
  },
  {
   "cell_type": "code",
   "execution_count": 67,
   "id": "771d0e18",
   "metadata": {},
   "outputs": [
    {
     "name": "stdout",
     "output_type": "stream",
     "text": [
      "sassa e sonsa são sozinhas\n"
     ]
    },
    {
     "data": {
      "text/plain": [
       "'$a$$a e $on$a $ão $ozinha$'"
      ]
     },
     "execution_count": 67,
     "metadata": {},
     "output_type": "execute_result"
    }
   ],
   "source": [
    "fraseQ10 = input(\"Insira uma frase: \")\n",
    "\n",
    "print(fraseQ10)\n",
    "fraseQ10.replace('s', '$')"
   ]
  }
 ],
 "metadata": {
  "kernelspec": {
   "display_name": ".venv",
   "language": "python",
   "name": "python3"
  },
  "language_info": {
   "codemirror_mode": {
    "name": "ipython",
    "version": 3
   },
   "file_extension": ".py",
   "mimetype": "text/x-python",
   "name": "python",
   "nbconvert_exporter": "python",
   "pygments_lexer": "ipython3",
   "version": "3.13.2"
  }
 },
 "nbformat": 4,
 "nbformat_minor": 5
}
