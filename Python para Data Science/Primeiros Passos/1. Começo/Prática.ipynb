{
 "cells": [
  {
   "cell_type": "markdown",
   "id": "d550e38d",
   "metadata": {},
   "source": [
    "Imprima a frase: **Escola de Dados da Alura!**"
   ]
  },
  {
   "cell_type": "code",
   "execution_count": 1,
   "id": "06eb619d",
   "metadata": {},
   "outputs": [
    {
     "name": "stdout",
     "output_type": "stream",
     "text": [
      "Escola de Dados da Alura!\n"
     ]
    }
   ],
   "source": [
    "print('Escola de Dados da Alura!')"
   ]
  },
  {
   "cell_type": "markdown",
   "id": "ecb3d21b",
   "metadata": {},
   "source": [
    "Imprima seu nome e sobrenome seguindo o formato abaixo:\n",
    "\n",
    "**Nome:** [seu nome]  \n",
    "**Sobrenome:** [seu sobrenome]"
   ]
  },
  {
   "cell_type": "code",
   "execution_count": 2,
   "id": "be58fd49",
   "metadata": {},
   "outputs": [
    {
     "name": "stdout",
     "output_type": "stream",
     "text": [
      "Nome: Ithallo\n",
      "Sobrenome: Leandro\n"
     ]
    }
   ],
   "source": [
    "nome = 'Ithallo'\n",
    "sobrenome = 'Leandro'\n",
    "print(f'Nome: {nome}\\nSobrenome: {sobrenome}')"
   ]
  },
  {
   "cell_type": "markdown",
   "id": "0464dc43",
   "metadata": {},
   "source": [
    "Imprima o seu primeiro nome letra a letra. Por exemplo, meu nome é Mirla, então eu obtenho a seguinte saída:\n",
    "M\n",
    "I\n",
    "R\n",
    "L\n",
    "A"
   ]
  },
  {
   "cell_type": "code",
   "execution_count": 5,
   "id": "4e979739",
   "metadata": {},
   "outputs": [
    {
     "name": "stdout",
     "output_type": "stream",
     "text": [
      "I\n",
      "T\n",
      "H\n",
      "A\n",
      "L\n",
      "L\n",
      "O\n"
     ]
    }
   ],
   "source": [
    "for letra in nome:\n",
    "    print(letra.upper())\n"
   ]
  },
  {
   "cell_type": "markdown",
   "id": "09f897c7",
   "metadata": {},
   "source": [
    "Imprima o dia do seu nascimento no formato **dia mês ano**, onde:\n",
    "\n",
    "- O **dia** e o **ano** devem ser números inteiros (sem aspas).\n",
    "- O **mês** deve ser escrito por extenso.\n",
    "\n",
    "Por exemplo, para a data de nascimento 28 de fevereiro de 2003, a saída deve ser:  \n",
    "**28 fevereiro 2003**"
   ]
  },
  {
   "cell_type": "code",
   "execution_count": 6,
   "id": "cc565dcf",
   "metadata": {},
   "outputs": [
    {
     "name": "stdout",
     "output_type": "stream",
     "text": [
      "1 outubro 2004\n"
     ]
    }
   ],
   "source": [
    "dia = 1\n",
    "mes = 'outubro'\n",
    "ano = 2004\n",
    "\n",
    "print(f'{dia} {mes} {ano}')"
   ]
  },
  {
   "cell_type": "markdown",
   "id": "64a9b863",
   "metadata": {},
   "source": [
    "Imprima, em um único print, o atual ano que você está fazendo esse curso. O valor do ano deve ser um dado numérico e a saída do print deve seguir o formato abaixo:\n",
    "\n",
    "**Ano atual:** [ano]"
   ]
  },
  {
   "cell_type": "code",
   "execution_count": 8,
   "id": "6ebb5185",
   "metadata": {},
   "outputs": [
    {
     "name": "stdout",
     "output_type": "stream",
     "text": [
      "Ano atual: 2025\n"
     ]
    }
   ],
   "source": [
    "ano = 2025\n",
    "\n",
    "if ano == 2025:\n",
    "    print(f\"Ano atual: {ano}\")"
   ]
  }
 ],
 "metadata": {
  "kernelspec": {
   "display_name": ".venv",
   "language": "python",
   "name": "python3"
  },
  "language_info": {
   "codemirror_mode": {
    "name": "ipython",
    "version": 3
   },
   "file_extension": ".py",
   "mimetype": "text/x-python",
   "name": "python",
   "nbconvert_exporter": "python",
   "pygments_lexer": "ipython3",
   "version": "3.13.2"
  }
 },
 "nbformat": 4,
 "nbformat_minor": 5
}
