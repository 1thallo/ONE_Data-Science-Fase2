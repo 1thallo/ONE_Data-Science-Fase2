{
 "cells": [
  {
   "cell_type": "markdown",
   "id": "3eb83903",
   "metadata": {},
   "source": [
    "## Aula 1 - Introdução ao Python"
   ]
  },
  {
   "cell_type": "markdown",
   "id": "39212ef6",
   "metadata": {},
   "source": [
    "### Questão 1\n",
    "\n",
    "Imprima a frase `Escola de Dados da Alura!`"
   ]
  },
  {
   "cell_type": "code",
   "execution_count": 1,
   "id": "02325dad",
   "metadata": {},
   "outputs": [
    {
     "name": "stdout",
     "output_type": "stream",
     "text": [
      "Escola de Dados da Alura!\n"
     ]
    }
   ],
   "source": [
    "print('Escola de Dados da Alura!')"
   ]
  },
  {
   "cell_type": "markdown",
   "id": "0d900003",
   "metadata": {},
   "source": [
    "### Questão 2\n",
    "Imprima na tela seu nome e seu sobrenome seguindo a estrutura abaixo:\n",
    "```\n",
    "Nome: [seu nome]\n",
    "Sobrenome: [seu sobrenome]\n",
    "```\n"
   ]
  },
  {
   "cell_type": "code",
   "execution_count": 2,
   "id": "19b802b9",
   "metadata": {},
   "outputs": [
    {
     "name": "stdout",
     "output_type": "stream",
     "text": [
      "Nome: Ithallo\n",
      "Sobrenome: Leandro\n"
     ]
    }
   ],
   "source": [
    "nome = 'Ithallo'\n",
    "sobrenome = 'Leandro'\n",
    "print(f'Nome: {nome}\\nSobrenome: {sobrenome}')"
   ]
  },
  {
   "cell_type": "markdown",
   "id": "8c21ddfe",
   "metadata": {},
   "source": [
    "### Questão 3\n",
    "Imprima o seu primeiro nome letra a letra. Por exemplo, nome é Mirla, então eu obtenho a seguinte saída:\n",
    "```\n",
    "M\n",
    "I\n",
    "R\n",
    "L\n",
    "A\n",
    "```\n"
   ]
  },
  {
   "cell_type": "code",
   "execution_count": 3,
   "id": "47689f3f",
   "metadata": {},
   "outputs": [
    {
     "name": "stdout",
     "output_type": "stream",
     "text": [
      "I\n",
      "T\n",
      "H\n",
      "A\n",
      "L\n",
      "L\n",
      "O\n"
     ]
    }
   ],
   "source": [
    "for letra in nome:\n",
    "    print(letra.upper())"
   ]
  },
  {
   "cell_type": "markdown",
   "id": "d5569fec",
   "metadata": {},
   "source": [
    "### Questão 4\n",
    "Imprima o dia do seu nascimento em formato `dia mês ano`. Os valores de dia e ano não podem estar entre aspas. O formato deve estar como no exemplo, supondo uma data de aniversário dia 28 de fevereiro de 2003:\n",
    "```\n",
    "28 fevereiro 2003\n",
    "```"
   ]
  },
  {
   "cell_type": "code",
   "execution_count": 5,
   "id": "6d52448d",
   "metadata": {},
   "outputs": [
    {
     "name": "stdout",
     "output_type": "stream",
     "text": [
      "1 outubro 2004\n"
     ]
    }
   ],
   "source": [
    "dia = 1\n",
    "mes = 'outubro'\n",
    "ano = 2004\n",
    "\n",
    "print(f'{dia} {mes} {ano}')"
   ]
  },
  {
   "cell_type": "markdown",
   "id": "06a826e3",
   "metadata": {},
   "source": [
    "### Questão 5\n",
    "Imprima em um único print o atual ano que você está fazendo esse curso, o valor do ano deve ser um dado numérico. A saída do print deve ser a seguinte:\n",
    "```\n",
    "Ano atual: [ano]\n",
    "```\n"
   ]
  },
  {
   "cell_type": "code",
   "execution_count": 4,
   "id": "1c3b5bcd",
   "metadata": {},
   "outputs": [
    {
     "name": "stdout",
     "output_type": "stream",
     "text": [
      "Ano atual: 2025\n"
     ]
    }
   ],
   "source": [
    "ano = 2025\n",
    "\n",
    "if ano == 2025:\n",
    "    print(f\"Ano atual: {ano}\")"
   ]
  }
 ],
 "metadata": {
  "kernelspec": {
   "display_name": ".venv",
   "language": "python",
   "name": "python3"
  },
  "language_info": {
   "codemirror_mode": {
    "name": "ipython",
    "version": 3
   },
   "file_extension": ".py",
   "mimetype": "text/x-python",
   "name": "python",
   "nbconvert_exporter": "python",
   "pygments_lexer": "ipython3",
   "version": "3.13.2"
  }
 },
 "nbformat": 4,
 "nbformat_minor": 5
}
