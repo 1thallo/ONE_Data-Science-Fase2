{
 "cells": [
  {
   "cell_type": "markdown",
   "id": "477eab13",
   "metadata": {},
   "source": [
    "## Aula 4 - Estruturas de repetição"
   ]
  },
  {
   "cell_type": "markdown",
   "id": "5f59b439",
   "metadata": {},
   "source": [
    "### Aquecendo na programação"
   ]
  },
  {
   "cell_type": "markdown",
   "id": "fff45a19",
   "metadata": {},
   "source": [
    "#### Questão 1\n",
    "Escreva um programa que peça dois números inteiros e imprima todos os números inteiros entre eles."
   ]
  },
  {
   "cell_type": "code",
   "execution_count": null,
   "id": "3e78d3d6",
   "metadata": {},
   "outputs": [
    {
     "name": "stdout",
     "output_type": "stream",
     "text": [
      "Numeros inseridos: [22, 65]\n",
      "22\n",
      "65\n"
     ]
    }
   ],
   "source": [
    "numero1Q1 = int(input(\"Insira o 1° número: \"))\n",
    "numero2Q2 = int(input(\"Insira o 2° número: \"))\n",
    "\n",
    "numeros = [numero1Q1, numero2Q2]\n",
    "\n",
    "print(f\"Numeros inseridos: {numeros}\")\n",
    "\n",
    "for numero in numeros:\n",
    "    print(numero)"
   ]
  },
  {
   "cell_type": "markdown",
   "id": "b9e7e57f",
   "metadata": {},
   "source": [
    "#### Questão 2\n",
    "Escreva um programa para calcular quantos dias levará para a colônia de uma bactéria A ultrapassar ou igualar a colônia de uma bactéria B, com base nas taxas de crescimento de 3% e 1,5% respectivamente. Considere que a colônia A inicia com 4 elementos e a colônia B com 10 elementos."
   ]
  },
  {
   "cell_type": "code",
   "execution_count": null,
   "id": "1c1367a0",
   "metadata": {},
   "outputs": [
    {
     "name": "stdout",
     "output_type": "stream",
     "text": [
      "-- Dia 1 --\n",
      "Colonia A: 6.67\n",
      "Colonia B: 13.33\n",
      "\n",
      "-- Dia 2 --\n",
      "Colonia A: 11.11\n",
      "Colonia B: 17.78\n",
      "\n",
      "-- Dia 3 --\n",
      "Colonia A: 18.52\n",
      "Colonia B: 23.70\n",
      "\n",
      "-- Dia 4 --\n",
      "Colonia A: 30.86\n",
      "Colonia B: 31.60\n",
      "\n",
      "-- Dia 5 --\n",
      "Colonia A: 51.44\n",
      "Colonia B: 42.14\n",
      "\n"
     ]
    }
   ],
   "source": [
    "coloniaA = 4\n",
    "coloniaB = 10\n",
    "i = 0\n",
    "\n",
    "while coloniaB > coloniaA:\n",
    "    coloniaB += coloniaB / 3\n",
    "    coloniaA += coloniaA / 1.5\n",
    "    i += 1\n",
    "    \n",
    "    print(f\"-- Dia {i} --\\nColonia A: {coloniaA:.2f}\\nColonia B: {coloniaB:.2f}\\n\")"
   ]
  },
  {
   "cell_type": "markdown",
   "id": "690dac63",
   "metadata": {},
   "source": [
    "#### Questão 3\n",
    "Para tratar uma quantidade de 15 dados de avaliações de pessoas usuárias de um serviço da empresa, precisamos verificar se as notas são válidas. Então, escreva um programa que vai receber a nota de 0 a 5 de todos os dados e verificar se é um valor válido. Caso seja inserido uma nota acima de 5 ou abaixo de 0, repita até que a pessoa usuária insira um valor válido."
   ]
  },
  {
   "cell_type": "code",
   "execution_count": 2,
   "id": "7484ff59",
   "metadata": {},
   "outputs": [
    {
     "name": "stdout",
     "output_type": "stream",
     "text": [
      "Nota 1 válida: 5\n",
      "Nota 2 válida: 4\n",
      "Nota 3 válida: 4\n",
      "Nota 4 válida: 3\n",
      "Nota 5 válida: 2\n",
      "Nota 6 válida: 1\n",
      "Nota inválida! Insira uma nota entre 0 e 5.\n",
      "Nota 7 válida: 3\n",
      "Nota 8 válida: 4\n",
      "Nota 9 válida: 4\n",
      "Nota 10 válida: 1\n",
      "Nota 11 válida: 1\n",
      "Nota 12 válida: 2\n",
      "Nota 13 válida: 3\n",
      "Nota 14 válida: 4\n",
      "Nota 15 válida: 1\n"
     ]
    }
   ],
   "source": [
    "qtd_dados = 15\n",
    "\n",
    "for i in range(1, qtd_dados + 1):\n",
    "    nota = int(input(f\"Insira a nota {i}: \"))\n",
    "    while nota < 0 or nota > 5:\n",
    "        print(\"Nota inválida! Insira uma nota entre 0 e 5.\")\n",
    "        nota = int(input(f\"Insira a nota {i}: \"))\n",
    "    print(f\"Nota {i} válida: {nota}\")\n",
    "            "
   ]
  },
  {
   "cell_type": "markdown",
   "id": "446715b0",
   "metadata": {},
   "source": [
    "#### Questão 4\n",
    "Desenvolva um programa que leia um conjunto indeterminado de temperaturas em Celsius e faça uma análise. Portanto, escreva um programa que leia temperaturas e informe a média delas. A leitura deve ser encerrada ao ser enviado o valor -273°C."
   ]
  },
  {
   "cell_type": "code",
   "execution_count": 1,
   "id": "cfe6e598",
   "metadata": {},
   "outputs": [
    {
     "name": "stdout",
     "output_type": "stream",
     "text": [
      "Temperaturas inseridas: [-33, -45]\n",
      "Média das temperaturas inseridas: -39.00\n",
      "\n",
      "Temperaturas inseridas: [-33, -45, -68]\n",
      "Média das temperaturas inseridas: -48.67\n",
      "\n",
      "Temperaturas inseridas: [-33, -45, -68, -88]\n",
      "Média das temperaturas inseridas: -58.50\n",
      "\n",
      "Temperaturas inseridas: [-33, -45, -68, -88, -93]\n",
      "Média das temperaturas inseridas: -65.40\n",
      "\n",
      "Temperaturas inseridas: [-33, -45, -68, -88, -93, -129]\n",
      "Média das temperaturas inseridas: -76.00\n",
      "\n",
      "Temperaturas inseridas: [-33, -45, -68, -88, -93, -129, -145]\n",
      "Média das temperaturas inseridas: -85.86\n",
      "\n",
      "Temperaturas inseridas: [-33, -45, -68, -88, -93, -129, -145, -177]\n",
      "Média das temperaturas inseridas: -97.25\n",
      "\n",
      "Temperaturas inseridas: [-33, -45, -68, -88, -93, -129, -145, -177, -193]\n",
      "Média das temperaturas inseridas: -107.89\n",
      "\n",
      "Temperaturas inseridas: [-33, -45, -68, -88, -93, -129, -145, -177, -193, -245]\n",
      "Média das temperaturas inseridas: -121.60\n",
      "\n",
      "Temperaturas inseridas: [-33, -45, -68, -88, -93, -129, -145, -177, -193, -245, -273]\n",
      "Média das temperaturas inseridas: -135.36\n",
      "\n",
      "\n",
      "      ---------------------- Relatório --------------------------\n",
      "      | Quantidade de Temperaturas: 11   \n",
      "      | Média Geral: -135.36\n",
      "      -----------------------------------------------------------\n"
     ]
    }
   ],
   "source": [
    "temperatura_input = int(input(\"Insira a temperatura 1: \"))\n",
    "conjunto_temperaturas = [temperatura_input]\n",
    "i = 2\n",
    "\n",
    "while temperatura_input != -273:\n",
    "    temperatura_input = int(input(f\"Insira a temperatura {i}: \"))\n",
    "    conjunto_temperaturas.append(temperatura_input)\n",
    "\n",
    "    media = sum(conjunto_temperaturas) / len(conjunto_temperaturas)\n",
    "    print(f\"Temperaturas inseridas: {conjunto_temperaturas}\")\n",
    "    print(f\"Média das temperaturas inseridas: {media:.2f}\\n\")\n",
    "    i += 1\n",
    "\n",
    "print(f\"\"\"\n",
    "      ---------------------- Relatório --------------------------\n",
    "      | Quantidade de Temperaturas: {len(conjunto_temperaturas)}   \n",
    "      | Média Geral: {media:.2f}\n",
    "      -----------------------------------------------------------\"\"\")\n"
   ]
  },
  {
   "cell_type": "markdown",
   "id": "0bbd0cc0",
   "metadata": {},
   "source": [
    "#### Questão 5\n",
    "Escreva um programa que calcule o fatorial de um número inteiro fornecido pela pessoa usuária. O fatorial de um número inteiro é a multiplicação desse número por todos os seus antecessores até o número 1. Por exemplo, o fatorial de 5 é 5 x 4 x 3 x 2 x 1 = 120."
   ]
  },
  {
   "cell_type": "code",
   "execution_count": null,
   "id": "5b9fb4d1",
   "metadata": {},
   "outputs": [
    {
     "name": "stdout",
     "output_type": "stream",
     "text": [
      "5 x 1 = 5\n",
      "O fatorial do número inserido é: 5\n",
      "4 x 5 = 20\n",
      "O fatorial do número inserido é: 20\n",
      "3 x 20 = 60\n",
      "O fatorial do número inserido é: 60\n",
      "2 x 60 = 120\n",
      "O fatorial do número inserido é: 120\n",
      "1 x 120 = 120\n",
      "O fatorial do número inserido é: 120\n"
     ]
    }
   ],
   "source": [
    "numeroQ5 = int(input(\"Insira um número para calcular o fatorial: \"))\n",
    "resultado = 1\n",
    "fatorial_calculo = \"\"\n",
    "\n",
    "for i in range(numeroQ5, 0, -1):\n",
    "    resultado *= i\n",
    "    fatorial_calculo += f\"{i} x \" if i > 1 else f\"{i}\"\n",
    "\n",
    "print(f\"{numeroQ5}! = {fatorial_calculo} = {resultado}\")"
   ]
  },
  {
   "cell_type": "markdown",
   "id": "26adb51d",
   "metadata": {},
   "source": [
    "### Momento dos projetos"
   ]
  },
  {
   "cell_type": "markdown",
   "id": "b418f57b",
   "metadata": {},
   "source": [
    "#### Questão 6\n",
    "Escreva um programa que gere a tabuada de um número inteiro de 1 a 10, de acordo com a escolha da pessoa usuária. Como exemplo, para o número 2, a tabuada deve ser mostrada no seguinte formato:\n",
    "```\n",
    "Tabuada do 2:\n",
    "2 x 1 = 2\n",
    "2 x 2 = 4\n",
    "[...]\n",
    "2 x 10 = 20\n",
    "```"
   ]
  },
  {
   "cell_type": "code",
   "execution_count": null,
   "id": "23622090",
   "metadata": {},
   "outputs": [
    {
     "name": "stdout",
     "output_type": "stream",
     "text": [
      "5! = 5 x 4 x 3 x 2 x 1 = 120\n"
     ]
    }
   ],
   "source": []
  },
  {
   "cell_type": "markdown",
   "id": "1b414d77",
   "metadata": {},
   "source": [
    "#### Questão 7\n",
    "Os números primos possuem várias aplicações dentro da Ciência de Dados, por exemplo, na criptografia e segurança. Um número primo é aquele que é divisível apenas por um e por ele mesmo. Faça um programa que peça um número inteiro e determine se ele é ou não um número primo."
   ]
  },
  {
   "cell_type": "code",
   "execution_count": null,
   "id": "ce30117b",
   "metadata": {},
   "outputs": [],
   "source": []
  },
  {
   "cell_type": "markdown",
   "id": "0d077252",
   "metadata": {},
   "source": [
    "#### Questão 8\n",
    "Vamos entender a distribuição de idades de pensionistas de uma empresa de previdência. Escreva um programa que leia as idades de uma quantidade não informada de clientes e mostre a distribuição em intervalos de [0-25], [26-50], [51-75] e [76-100]. Encerre a entrada de dados com um número negativo."
   ]
  },
  {
   "cell_type": "code",
   "execution_count": null,
   "id": "e20e3920",
   "metadata": {},
   "outputs": [],
   "source": []
  },
  {
   "cell_type": "markdown",
   "id": "aed8b99e",
   "metadata": {},
   "source": [
    "#### Questão 9\n",
    "Em uma eleição para gerência em uma empresa com 20 funcionários, existem quatro candidatos. Escreva um programa que calcule o vencedor da eleição. A votação ocorreu da seguinte maneira:\n",
    "- Cada funcionário votou em um dos quatro candidatos (representados pelos números 1, 2, 3 e 4).\n",
    "- Também foram contabilizados os votos nulos (representado pelo número 5) e os votos em branco (representado pelo número 6).\n",
    "\n",
    "Ao final da votação, o programa deve exibir o total de votos para cada candidato, o número de votos nulos e o número de votos em branco. Além disso, deve calcular e exibir a porcentagem de votos nulos em relação ao total de votos e a porcentagem de votos em branco em relação ao total de votos."
   ]
  },
  {
   "cell_type": "code",
   "execution_count": null,
   "id": "17058420",
   "metadata": {},
   "outputs": [],
   "source": []
  }
 ],
 "metadata": {
  "kernelspec": {
   "display_name": ".venv",
   "language": "python",
   "name": "python3"
  },
  "language_info": {
   "codemirror_mode": {
    "name": "ipython",
    "version": 3
   },
   "file_extension": ".py",
   "mimetype": "text/x-python",
   "name": "python",
   "nbconvert_exporter": "python",
   "pygments_lexer": "ipython3",
   "version": "3.13.2"
  }
 },
 "nbformat": 4,
 "nbformat_minor": 5
}
