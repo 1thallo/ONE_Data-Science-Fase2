{
 "cells": [
  {
   "cell_type": "markdown",
   "id": "477eab13",
   "metadata": {},
   "source": [
    "## Aula 4 - Estruturas de repetição"
   ]
  },
  {
   "cell_type": "markdown",
   "id": "5f59b439",
   "metadata": {},
   "source": [
    "### Aquecendo na programação"
   ]
  },
  {
   "cell_type": "markdown",
   "id": "fff45a19",
   "metadata": {},
   "source": [
    "#### Questão 1\n",
    "Escreva um programa que peça dois números inteiros e imprima todos os números inteiros entre eles."
   ]
  },
  {
   "cell_type": "code",
   "execution_count": null,
   "id": "3e78d3d6",
   "metadata": {},
   "outputs": [
    {
     "name": "stdout",
     "output_type": "stream",
     "text": [
      "Numeros inseridos: [22, 65]\n",
      "22\n",
      "65\n"
     ]
    }
   ],
   "source": [
    "numero1Q1 = int(input(\"Insira o 1° número: \"))\n",
    "numero2Q2 = int(input(\"Insira o 2° número: \"))\n",
    "\n",
    "numeros = [numero1Q1, numero2Q2]\n",
    "\n",
    "print(f\"Numeros inseridos: {numeros}\")\n",
    "\n",
    "for numero in numeros:\n",
    "    print(numero)"
   ]
  },
  {
   "cell_type": "markdown",
   "id": "b9e7e57f",
   "metadata": {},
   "source": [
    "#### Questão 2\n",
    "Escreva um programa para calcular quantos dias levará para a colônia de uma bactéria A ultrapassar ou igualar a colônia de uma bactéria B, com base nas taxas de crescimento de 3% e 1,5% respectivamente. Considere que a colônia A inicia com 4 elementos e a colônia B com 10 elementos."
   ]
  },
  {
   "cell_type": "code",
   "execution_count": null,
   "id": "1c1367a0",
   "metadata": {},
   "outputs": [
    {
     "name": "stdout",
     "output_type": "stream",
     "text": [
      "-- Dia 1 --\n",
      "Colonia A: 6.67\n",
      "Colonia B: 13.33\n",
      "\n",
      "-- Dia 2 --\n",
      "Colonia A: 11.11\n",
      "Colonia B: 17.78\n",
      "\n",
      "-- Dia 3 --\n",
      "Colonia A: 18.52\n",
      "Colonia B: 23.70\n",
      "\n",
      "-- Dia 4 --\n",
      "Colonia A: 30.86\n",
      "Colonia B: 31.60\n",
      "\n",
      "-- Dia 5 --\n",
      "Colonia A: 51.44\n",
      "Colonia B: 42.14\n",
      "\n"
     ]
    }
   ],
   "source": [
    "coloniaA = 4\n",
    "coloniaB = 10\n",
    "i = 0\n",
    "\n",
    "while coloniaB > coloniaA:\n",
    "    coloniaB += coloniaB / 3\n",
    "    coloniaA += coloniaA / 1.5\n",
    "    i += 1\n",
    "    \n",
    "    print(f\"-- Dia {i} --\\nColonia A: {coloniaA:.2f}\\nColonia B: {coloniaB:.2f}\\n\")"
   ]
  },
  {
   "cell_type": "markdown",
   "id": "690dac63",
   "metadata": {},
   "source": [
    "#### Questão 3\n",
    "Para tratar uma quantidade de 15 dados de avaliações de pessoas usuárias de um serviço da empresa, precisamos verificar se as notas são válidas. Então, escreva um programa que vai receber a nota de 0 a 5 de todos os dados e verificar se é um valor válido. Caso seja inserido uma nota acima de 5 ou abaixo de 0, repita até que a pessoa usuária insira um valor válido."
   ]
  },
  {
   "cell_type": "code",
   "execution_count": null,
   "id": "7484ff59",
   "metadata": {},
   "outputs": [],
   "source": [
    "qtd_dados = 15\n",
    "\n",
    "for i in range(1,qtd_dados+1):\n",
    "    nota = int(input(f\"Insira a nota {i}\"))\n",
    "    while nota < 0 and nota > 5:\n",
    "        print(f\"Nota {i}: {nota}\")\n",
    "            "
   ]
  },
  {
   "cell_type": "markdown",
   "id": "446715b0",
   "metadata": {},
   "source": [
    "#### Questão 4\n",
    "Desenvolva um programa que leia um conjunto indeterminado de temperaturas em Celsius e faça uma análise. Portanto, escreva um programa que leia temperaturas e informe a média delas. A leitura deve ser encerrada ao ser enviado o valor -273°C."
   ]
  },
  {
   "cell_type": "code",
   "execution_count": null,
   "id": "cfe6e598",
   "metadata": {},
   "outputs": [],
   "source": []
  },
  {
   "cell_type": "markdown",
   "id": "0bbd0cc0",
   "metadata": {},
   "source": [
    "#### Questão 5\n",
    "Escreva um programa que calcule o fatorial de um número inteiro fornecido pela pessoa usuária. O fatorial de um número inteiro é a multiplicação desse número por todos os seus antecessores até o número 1. Por exemplo, o fatorial de 5 é 5 x 4 x 3 x 2 x 1 = 120."
   ]
  },
  {
   "cell_type": "code",
   "execution_count": null,
   "id": "5b9fb4d1",
   "metadata": {},
   "outputs": [],
   "source": []
  },
  {
   "cell_type": "markdown",
   "id": "26adb51d",
   "metadata": {},
   "source": [
    "### Momento dos projetos"
   ]
  },
  {
   "cell_type": "markdown",
   "id": "b418f57b",
   "metadata": {},
   "source": [
    "#### Questão 6\n",
    "Escreva um programa que gere a tabuada de um número inteiro de 1 a 10, de acordo com a escolha da pessoa usuária. Como exemplo, para o número 2, a tabuada deve ser mostrada no seguinte formato:\n",
    "```\n",
    "Tabuada do 2:\n",
    "2 x 1 = 2\n",
    "2 x 2 = 4\n",
    "[...]\n",
    "2 x 10 = 20\n",
    "```"
   ]
  },
  {
   "cell_type": "code",
   "execution_count": null,
   "id": "23622090",
   "metadata": {},
   "outputs": [],
   "source": []
  },
  {
   "cell_type": "markdown",
   "id": "1b414d77",
   "metadata": {},
   "source": [
    "#### Questão 7\n",
    "Os números primos possuem várias aplicações dentro da Ciência de Dados, por exemplo, na criptografia e segurança. Um número primo é aquele que é divisível apenas por um e por ele mesmo. Faça um programa que peça um número inteiro e determine se ele é ou não um número primo."
   ]
  },
  {
   "cell_type": "code",
   "execution_count": null,
   "id": "ce30117b",
   "metadata": {},
   "outputs": [],
   "source": []
  },
  {
   "cell_type": "markdown",
   "id": "0d077252",
   "metadata": {},
   "source": [
    "#### Questão 8\n",
    "Vamos entender a distribuição de idades de pensionistas de uma empresa de previdência. Escreva um programa que leia as idades de uma quantidade não informada de clientes e mostre a distribuição em intervalos de [0-25], [26-50], [51-75] e [76-100]. Encerre a entrada de dados com um número negativo."
   ]
  },
  {
   "cell_type": "code",
   "execution_count": null,
   "id": "e20e3920",
   "metadata": {},
   "outputs": [],
   "source": []
  },
  {
   "cell_type": "markdown",
   "id": "aed8b99e",
   "metadata": {},
   "source": [
    "#### Questão 9\n",
    "Em uma eleição para gerência em uma empresa com 20 funcionários, existem quatro candidatos. Escreva um programa que calcule o vencedor da eleição. A votação ocorreu da seguinte maneira:\n",
    "- Cada funcionário votou em um dos quatro candidatos (representados pelos números 1, 2, 3 e 4).\n",
    "- Também foram contabilizados os votos nulos (representado pelo número 5) e os votos em branco (representado pelo número 6).\n",
    "\n",
    "Ao final da votação, o programa deve exibir o total de votos para cada candidato, o número de votos nulos e o número de votos em branco. Além disso, deve calcular e exibir a porcentagem de votos nulos em relação ao total de votos e a porcentagem de votos em branco em relação ao total de votos."
   ]
  },
  {
   "cell_type": "code",
   "execution_count": null,
   "id": "17058420",
   "metadata": {},
   "outputs": [],
   "source": []
  }
 ],
 "metadata": {
  "language_info": {
   "name": "python"
  }
 },
 "nbformat": 4,
 "nbformat_minor": 5
}
