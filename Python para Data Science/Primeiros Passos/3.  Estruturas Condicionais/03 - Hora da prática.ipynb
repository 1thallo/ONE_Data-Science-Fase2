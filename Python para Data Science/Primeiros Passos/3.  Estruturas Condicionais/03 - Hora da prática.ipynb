{
 "cells": [
  {
   "cell_type": "markdown",
   "id": "efb542a0",
   "metadata": {},
   "source": [
    "## Aula 3 - Estruturas condicionais"
   ]
  },
  {
   "cell_type": "markdown",
   "id": "2e538ca4",
   "metadata": {},
   "source": [
    "### Aquecendo na programação"
   ]
  },
  {
   "cell_type": "markdown",
   "id": "33fef49d",
   "metadata": {},
   "source": [
    "#### Questão 1\n",
    "Escreva um programa que peça à pessoa usuária para fornecer dois números e exibir o número maior."
   ]
  },
  {
   "cell_type": "code",
   "execution_count": 3,
   "id": "e5fc05f8",
   "metadata": {},
   "outputs": [
    {
     "name": "stdout",
     "output_type": "stream",
     "text": [
      "Números inseridos: 10 e 20\n",
      "\n",
      "20 é maior que 10\n"
     ]
    }
   ],
   "source": [
    "numeroQ1 = int(input(\"Insira um número: \"))\n",
    "numeroQ2 = int(input(\"Insira o segundo número: \"))\n",
    "\n",
    "print(f\"Números inseridos: {numeroQ1} e {numeroQ2}\\n\")\n",
    "\n",
    "if numeroQ1 > numeroQ2:\n",
    "    print(f\"{numeroQ1} é maior que {numeroQ2}\")\n",
    "else:\n",
    "    print(f\"{numeroQ2} é maior que {numeroQ1}\")"
   ]
  },
  {
   "cell_type": "markdown",
   "id": "6359f027",
   "metadata": {},
   "source": [
    "#### Questão 2\n",
    "Escreva um programa que solicite o percentual de crescimento de produção de uma empresa e informe se houve um crescimento (porcentagem positiva) ou decrescimento (porcentagem negativa)."
   ]
  },
  {
   "cell_type": "code",
   "execution_count": 5,
   "id": "66ac6591",
   "metadata": {},
   "outputs": [
    {
     "name": "stdout",
     "output_type": "stream",
     "text": [
      "-23.0\n",
      "Houve decrescimento\n"
     ]
    }
   ],
   "source": [
    "numeroQ2 = float(input(\"Qual o percentual de crescimento?\"))\n",
    "print(numeroQ2)\n",
    "\n",
    "if numeroQ2 > 0:\n",
    "    print(\"Houve crescimento\")\n",
    "else:\n",
    "    print(\"Houve decrescimento\")"
   ]
  },
  {
   "cell_type": "markdown",
   "id": "072a4db3",
   "metadata": {},
   "source": [
    "#### Questão 3\n",
    "Escreva um programa que determine se uma letra fornecida pela pessoa usuária é uma vogal ou consoante."
   ]
  },
  {
   "cell_type": "code",
   "execution_count": 20,
   "id": "371de03e",
   "metadata": {},
   "outputs": [
    {
     "name": "stdout",
     "output_type": "stream",
     "text": [
      "Letra: A\n",
      "A é uma vogal!\n"
     ]
    }
   ],
   "source": [
    "vogais = ['a','e','i','o','u']\n",
    "\n",
    "letraQ3 = str(input(\"Insira uma letra: \"))\n",
    "print(f\"Letra: {letraQ3}\")\n",
    "\n",
    "if letraQ3.lower() in vogais:\n",
    "    print(f\"{letraQ3} é uma vogal!\")\n",
    "else:\n",
    "    print(f\"{letraQ3} não é uma vogal!\")"
   ]
  },
  {
   "cell_type": "markdown",
   "id": "4bf055b0",
   "metadata": {},
   "source": [
    "#### Questão 4\n",
    "Escreva um programa que leia valores médios de preços de um modelo de carro por 3 anos consecutivos e exiba o valor mais alto e mais baixo entre esses três anos."
   ]
  },
  {
   "cell_type": "code",
   "execution_count": 24,
   "id": "49fce012",
   "metadata": {},
   "outputs": [
    {
     "name": "stdout",
     "output_type": "stream",
     "text": [
      "Valor mais alto: R$30.999\n",
      "Valor mais baixo: R$24.999\n"
     ]
    }
   ],
   "source": [
    "valores_medios = [24.999,27.999,30.999]\n",
    "\n",
    "print(f\"Valor mais alto: R${max(valores_medios)}\")\n",
    "print(f\"Valor mais baixo: R${min(valores_medios)}\")"
   ]
  },
  {
   "cell_type": "markdown",
   "id": "6a9c2fcf",
   "metadata": {},
   "source": [
    "#### Questão 5\n",
    "Escreva um programa que pergunte sobre o preço de três produtos e indique qual é o produto mais barato para comprar."
   ]
  },
  {
   "cell_type": "code",
   "execution_count": null,
   "id": "b48770a9",
   "metadata": {},
   "outputs": [
    {
     "name": "stdout",
     "output_type": "stream",
     "text": [
      "Produto 1: 9.99\n",
      "Produto 2: 9.98\n",
      "Produto 3: 9.97\n",
      "O mais barato: 9.97\n"
     ]
    }
   ],
   "source": [
    "produto1 = float(input('Qual o preço do produto 1?'))\n",
    "produto2 = float(input('Qual o preço do produto 2?'))\n",
    "produto3 = float(input('Qual o preço do produto 3?'))\n",
    "\n",
    "print(f\"Produto 1: {produto1}\\nProduto 2: {produto2}\\nProduto 3: {produto3}\")\n",
    "\n",
    "lista_valores = [produto1, produto2, produto3]\n",
    "\n",
    "print(f\"O mais barato: {min(lista_valores)}\")"
   ]
  },
  {
   "cell_type": "markdown",
   "id": "492b2501",
   "metadata": {},
   "source": [
    "#### Questão 6\n",
    "Escreva um programa que leia três números e os exiba em ordem decrescente."
   ]
  },
  {
   "cell_type": "code",
   "execution_count": 28,
   "id": "fbff89a3",
   "metadata": {},
   "outputs": [
    {
     "name": "stdout",
     "output_type": "stream",
     "text": [
      "[123, 89, 49, 45, 33, 23, 12, 10]\n"
     ]
    }
   ],
   "source": [
    "numerosQ6 = [89, 123, 49, 12, 33, 45, 23, 10]\n",
    "\n",
    "print(sorted(numerosQ6, reverse=True))"
   ]
  },
  {
   "cell_type": "markdown",
   "id": "0a36b7c8",
   "metadata": {},
   "source": [
    "#### Questão 7\n",
    "Escreva um programa que pergunte em qual turno a pessoa usuária estuda (\"manhã\", \"tarde\" ou \"noite\") e exiba a mensagem \"Bom Dia!\", \"Boa Tarde!\", \"Boa Noite!\", ou \"Valor Inválido!\", conforme o caso."
   ]
  },
  {
   "cell_type": "code",
   "execution_count": null,
   "id": "e04d09f0",
   "metadata": {},
   "outputs": [
    {
     "name": "stdout",
     "output_type": "stream",
     "text": [
      "Bom dia!\n"
     ]
    }
   ],
   "source": [
    "turno = input(\"Qual turno você estuda?\\n1 - Manhã\\n2 - Tarde\\n3 - Noite\\n\")\n",
    "\n",
    "if turno == \"1\":\n",
    "    print(\"Bom dia!\")\n",
    "elif turno == \"2\":\n",
    "    print(\"Boa tarde!\")\n",
    "elif turno == \"3\":\n",
    "    print(\"Boa noite!\")\n",
    "else:\n",
    "    print(\"Valor inválido!\")\n",
    "\n"
   ]
  },
  {
   "cell_type": "code",
   "execution_count": null,
   "id": "5f585dee",
   "metadata": {},
   "outputs": [
    {
     "name": "stdout",
     "output_type": "stream",
     "text": [
      "Valor invalido!\n"
     ]
    }
   ],
   "source": [
    " # Uso de dicionario \n",
    "turno = input(\"Qual turno você estuda?\\n1 - Manhã\\n2 - Tarde\\n3 - Noite\\n\")\n",
    "\n",
    "mensagens = {\"1\" : \"Bom dia!\",\n",
    "             \"2\" : \"Boa tarde!\",\n",
    "             \"3\" : \"Boa noite!\"}\n",
    "\n",
    "print(mensagens.get(turno, \"Valor invalido!\")) \n",
    "\n"
   ]
  },
  {
   "cell_type": "markdown",
   "id": "c3f807f8",
   "metadata": {},
   "source": [
    "#### Questão 8\n",
    "Escreva um programa que peça um número inteiro à pessoa usuária e determine se ele é par ou ímpar. Dica: Você pode utilizar o operador módulo `%`."
   ]
  },
  {
   "cell_type": "code",
   "execution_count": 39,
   "id": "02dae93c",
   "metadata": {},
   "outputs": [
    {
     "name": "stdout",
     "output_type": "stream",
     "text": [
      "Numero inserido: 9\n",
      "9 é impar!\n"
     ]
    }
   ],
   "source": [
    "numeroQ8 = int(input(\"Insira um número: \"))\n",
    "print(f\"Numero inserido: {numeroQ8}\")\n",
    "\n",
    "if numeroQ8 % 2 == 0:\n",
    "    print(f\"{numeroQ8} é par!\")\n",
    "else:\n",
    "    print(f\"{numeroQ8} é impar!\")"
   ]
  },
  {
   "cell_type": "markdown",
   "id": "b399ee54",
   "metadata": {},
   "source": [
    "#### Questão 9\n",
    "Escreva um programa que peça um número à pessoa usuária e informe se ele é inteiro ou decimal."
   ]
  },
  {
   "cell_type": "code",
   "execution_count": 46,
   "id": "72f44e11",
   "metadata": {},
   "outputs": [
    {
     "name": "stdout",
     "output_type": "stream",
     "text": [
      "Numero inserido: 4.0\n",
      "4 é inteiro!\n"
     ]
    }
   ],
   "source": [
    "numeroQ9 = float(input(\"Insira um número: \"))\n",
    "print(f\"Numero inserido: {numeroQ9}\")\n",
    "\n",
    "if numeroQ9.is_integer():\n",
    "    print(f\"{numeroQ9:.0f} é inteiro!\")\n",
    "else:\n",
    "    print(f\"{numeroQ9} é decimal!\")"
   ]
  },
  {
   "cell_type": "markdown",
   "id": "adbcea7c",
   "metadata": {},
   "source": [
    "### Momento dos projetos"
   ]
  },
  {
   "cell_type": "markdown",
   "id": "932fdd12",
   "metadata": {},
   "source": [
    "#### Questão 10\n",
    "Um programa deve ser escrito para ler dois números e, em seguida, perguntar à pessoa usuária qual operação ele deseja realizar. O resultado da operação deve incluir informações sobre o número - se é par ou ímpar, positivo ou negativo e inteiro ou decimal."
   ]
  },
  {
   "cell_type": "code",
   "execution_count": 48,
   "id": "731d285c",
   "metadata": {},
   "outputs": [
    {
     "name": "stdout",
     "output_type": "stream",
     "text": [
      "Numero 1: 5.0\n",
      "Numero 2: 10.0\n",
      "5.0 + 10.0 = 15.0\n",
      "Resultado: 15.0\n",
      "O resultado é ímpar.\n",
      "O resultado é positivo.\n",
      "O resultado é inteiro.\n"
     ]
    }
   ],
   "source": [
    "numero1Q10 = float(input(\"Insira o numero 1: \"))\n",
    "numero2Q10 = float(input(\"Insira o numero 2: \"))\n",
    "\n",
    "print(f\"Numero 1: {numero1Q10}\\nNumero 2: {numero2Q10}\")\n",
    "\n",
    "operacao = input(\"Qual operação deseja realizar?\\n1 - Soma\\n2 - Subtração\\n3 - Multiplicação\\n4 - Divisão\\n\")\n",
    "\n",
    "if operacao == \"1\":\n",
    "    resultado = numero1Q10 + numero2Q10\n",
    "    print(f\"{numero1Q10} + {numero2Q10} = {resultado}\")\n",
    "elif operacao == \"2\":\n",
    "    resultado = numero1Q10 - numero2Q10\n",
    "    print(f\"{numero1Q10} - {numero2Q10} = {resultado}\")\n",
    "elif operacao == \"3\":\n",
    "    resultado = numero1Q10 * numero2Q10\n",
    "    print(f\"{numero1Q10} * {numero2Q10} = {resultado}\")\n",
    "elif operacao == \"4\":\n",
    "    if numero2Q10 != 0:\n",
    "        resultado = numero1Q10 / numero2Q10\n",
    "        print(f\"{numero1Q10} / {numero2Q10} = {resultado}\")\n",
    "    else:\n",
    "        print(\"Divisão por zero não é permitida!\")\n",
    "        resultado = None\n",
    "else:\n",
    "    print(\"Operação inválida!\")\n",
    "    resultado = None\n",
    "\n",
    "if resultado is not None:\n",
    "    print(f\"Resultado: {resultado}\")\n",
    "    if resultado % 2 == 0:\n",
    "        print(\"O resultado é par.\")\n",
    "    else:\n",
    "        print(\"O resultado é ímpar.\")\n",
    "    \n",
    "    if resultado > 0:\n",
    "        print(\"O resultado é positivo.\")\n",
    "    elif resultado < 0:\n",
    "        print(\"O resultado é negativo.\")\n",
    "    \n",
    "    if resultado.is_integer():\n",
    "        print(\"O resultado é inteiro.\")\n",
    "    else:\n",
    "        print(\"O resultado é decimal.\")\n",
    "\n"
   ]
  },
  {
   "cell_type": "markdown",
   "id": "c3974a3e",
   "metadata": {},
   "source": [
    "#### Questão 11\n",
    "Escreva um programa que peça à pessoa usuária três números que representam os lados de um triângulo. O programa deve informar se os valores podem ser utilizados para formar um triângulo e, caso afirmativo, se ele é equilátero, isósceles ou escaleno. Tenha em mente algumas dicas:\n",
    "- Três lados formam um triângulo quando a soma de quaisquer dois lados for maior que o terceiro;\n",
    "- Triângulo Equilátero: três lados iguais;\n",
    "- Triângulo Isósceles: quaisquer dois lados iguais;\n",
    "- Triângulo Escaleno: três lados diferentes;\n"
   ]
  },
  {
   "cell_type": "code",
   "execution_count": 5,
   "id": "075b2e2a",
   "metadata": {},
   "outputs": [
    {
     "name": "stdout",
     "output_type": "stream",
     "text": [
      "Números inseridos: 12.0, 13.0, 14.0\n",
      "Triângulo Escaleno!\n"
     ]
    }
   ],
   "source": [
    "numero1Q11 = float(input(\"Insira o numero 1: \"))\n",
    "numero2Q11 = float(input(\"Insira o numero 2: \"))\n",
    "numero3Q11 = float(input(\"Insira o numero 3: \"))\n",
    "\n",
    "print(f\"Números inseridos: {numero1Q11}, {numero2Q11}, {numero3Q11}\")\n",
    "\n",
    "if numero1Q11 + numero2Q11 < numero3Q11 or numero2Q11 + numero3Q11 < numero1Q11:\n",
    "    print(\"Esses valores não formam um triângulo!\")\n",
    "elif numero1Q11 == numero2Q11 and numero2Q11 == numero3Q11:\n",
    "    print(\"Triângulo Equilátero!\")\n",
    "elif numero1Q11 == numero2Q11 or numero2Q11 == numero3Q11 or numero3Q11 == numero1Q11:\n",
    "    print(\"Triângulo Isósceles!\")\n",
    "else:\n",
    "    print(\"Triângulo Escaleno!\")\n",
    "\n"
   ]
  },
  {
   "cell_type": "markdown",
   "id": "64956639",
   "metadata": {},
   "source": [
    "#### Questão 12\n",
    "Um estabelecimento está vendendo combustíveis com descontos variados. Para o etanol, se a quantidade comprada for até 15 litros, o desconto será de 2% por litro. Caso contrário, será de 4% por litro. Para o diesel, se a quantidade comprada for até 15 litros, o desconto será de 3% por litro. Caso contrário, será de 5% por litro. O preço do litro de diesel é R\\$ 2,00 e o preço do litro de etanol é R\\$ 1,70. Escreva um programa que leia a quantidade de litros vendidos e o tipo de combustível (E para etanol e D para diesel) e calcule o valor a ser pago pelo cliente. Tenha em mente algumas dicas:\n",
    "\n",
    "- O do valor do desconto será a multiplicação entre preço do litro, quantidade de litros e o valor do desconto.\n",
    "- O valor a ser pago por um cliente será o resultado da multiplicação do preço do litro pela quantidade de litros menos o valor de desconto resultante do cálculo.\n"
   ]
  },
  {
   "cell_type": "code",
   "execution_count": null,
   "id": "0a5ada8e",
   "metadata": {},
   "outputs": [],
   "source": []
  },
  {
   "cell_type": "markdown",
   "id": "dde858e2",
   "metadata": {},
   "source": [
    "#### Questão 13\n",
    "Em uma empresa de venda de imóveis você precisa criar um código que analise os dados de vendas anuais para ajudar a diretoria na tomada de decisão. O código precisa coletar os dados de quantidade de venda durante os anos de 2022 e 2023 e fazer um cálculo de variação percentual. A partir do valor da variação, deve ser enviada às seguintes sugestões:\n",
    "- Para variação acima de 20%: bonificação para o time de vendas.\n",
    "- Para variação entre 2% e 20%: pequena bonificação para time de vendas.\n",
    "- Para variação entre 2% e -10%: planejamento de políticas de incentivo às vendas.\n",
    "- Para bonificações abaixo de -10%: corte de gastos.\n"
   ]
  },
  {
   "cell_type": "code",
   "execution_count": null,
   "id": "6d8f7dc6",
   "metadata": {},
   "outputs": [],
   "source": []
  }
 ],
 "metadata": {
  "kernelspec": {
   "display_name": ".venv",
   "language": "python",
   "name": "python3"
  },
  "language_info": {
   "codemirror_mode": {
    "name": "ipython",
    "version": 3
   },
   "file_extension": ".py",
   "mimetype": "text/x-python",
   "name": "python",
   "nbconvert_exporter": "python",
   "pygments_lexer": "ipython3",
   "version": "3.13.2"
  }
 },
 "nbformat": 4,
 "nbformat_minor": 5
}
