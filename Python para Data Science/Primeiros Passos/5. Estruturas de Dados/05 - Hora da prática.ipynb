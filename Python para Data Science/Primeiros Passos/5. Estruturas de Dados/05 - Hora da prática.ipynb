{
 "cells": [
  {
   "cell_type": "markdown",
   "id": "ea893832",
   "metadata": {},
   "source": [
    "## Aula 5 - Estruturas de dados"
   ]
  },
  {
   "cell_type": "markdown",
   "id": "ee4a0797",
   "metadata": {},
   "source": [
    "### Aquecendo na programação"
   ]
  },
  {
   "cell_type": "markdown",
   "id": "2f5ac61b",
   "metadata": {},
   "source": [
    "#### Questão 1\n",
    "Faça um programa que tenha a seguinte lista contendo os valores de gastos de uma empresa de papel `[2172.54, 3701.35, 3518.09, 3456.61, 3249.38, 2840.82, 3891.45, 3075.26, 2317.64, 3219.08]`. Com esses valores, faça um programa que calcule a média de gastos. Dica, use as funções built-in [`sum()`](https://docs.python.org/3/library/functions.html#sum) e [`len()`](https://docs.python.org/3/library/functions.html#len)."
   ]
  },
  {
   "cell_type": "code",
   "execution_count": 2,
   "id": "d9523188",
   "metadata": {},
   "outputs": [
    {
     "name": "stdout",
     "output_type": "stream",
     "text": [
      "[2172.54, 3701.35, 3518.09, 3456.61, 3249.38, 2840.82, 3891.45, 3075.26, 2317.64, 3219.08]\n",
      "\n",
      "Média da lista: 3144.222\n"
     ]
    }
   ],
   "source": [
    "listaQ1 = [2172.54, 3701.35, 3518.09, 3456.61, 3249.38, 2840.82, 3891.45, 3075.26, 2317.64, 3219.08]\n",
    "\n",
    "print(listaQ1)\n",
    "print(f\"\\nMédia da lista: {sum(listaQ1) / len(listaQ1)}\")"
   ]
  },
  {
   "cell_type": "markdown",
   "id": "8988e7e0",
   "metadata": {},
   "source": [
    "#### Questão 2\n",
    " Com os mesmos dados da questão anterior, defina quantas compras foram acima de 3000 reais e calcule a porcentagem quanto ao total de compras."
   ]
  },
  {
   "cell_type": "code",
   "execution_count": 21,
   "id": "ef792744",
   "metadata": {},
   "outputs": [
    {
     "name": "stdout",
     "output_type": "stream",
     "text": [
      "Quantidade de compras acima de 3000 reais: 7\n",
      "Porcentagem do total de compras: 76.68%\n"
     ]
    }
   ],
   "source": [
    "compras_acima_3000 = [valor for valor in listaQ1 if valor > 3000]\n",
    "qtd_acima_3000 = len(compras_acima_3000)\n",
    "\n",
    "porcentagem_acima_3000 = (sum(compras_acima_3000) / sum(listaQ1)) * 100\n",
    "\n",
    "print(f\"Quantidade de compras acima de 3000 reais: {qtd_acima_3000}\")\n",
    "print(f\"Porcentagem do total de compras: {porcentagem_acima_3000:.2f}%\")"
   ]
  },
  {
   "cell_type": "markdown",
   "id": "d5f020f8",
   "metadata": {},
   "source": [
    "#### Questão 3\n",
    "Faça um código que colete em uma lista 5 números inteiros quaisquer e imprima a lista. Exemplo: `[1,4,7,2,4]`."
   ]
  },
  {
   "cell_type": "code",
   "execution_count": 24,
   "id": "5cd1367d",
   "metadata": {},
   "outputs": [
    {
     "name": "stdout",
     "output_type": "stream",
     "text": [
      "Lista do numeros inseridos: [8, -8, 80, -80, 88]\n"
     ]
    }
   ],
   "source": [
    "listaQ3 = []\n",
    "\n",
    "for i in range(1, 6):\n",
    "    numeroQ3 = int(input(\"Insira o número da lista: \"))\n",
    "    \n",
    "    listaQ3.append(numeroQ3)\n",
    "    \n",
    "print(f\"Lista do numeros inseridos: {listaQ3}\")\n",
    "    "
   ]
  },
  {
   "cell_type": "markdown",
   "id": "76b846c9",
   "metadata": {},
   "source": [
    "#### Questão 4\n",
    "Colete novamente 5 inteiros e imprima a lista em ordem inversa à enviada."
   ]
  },
  {
   "cell_type": "code",
   "execution_count": 1,
   "id": "94b81d42",
   "metadata": {},
   "outputs": [
    {
     "name": "stdout",
     "output_type": "stream",
     "text": [
      "Lista do numeros: [11, 22, 33, 44, 55]\n",
      "Lista do numeros (inverso): [55, 44, 33, 22, 11]\n"
     ]
    }
   ],
   "source": [
    "listaQ4 = []\n",
    "\n",
    "for i in range(1, 6):\n",
    "    numeroQ4 = int(input(\"Insira o número da lista: \"))\n",
    "    \n",
    "    listaQ4.append(numeroQ4)\n",
    "\n",
    "print(f\"Lista do numeros: {listaQ4}\")    \n",
    "print(f\"Lista do numeros (inverso): {listaQ4[::-1]}\")\n",
    "    "
   ]
  },
  {
   "cell_type": "markdown",
   "id": "ad02d981",
   "metadata": {},
   "source": [
    "#### Questão 5\n",
    "Faça um programa que, ao inserir um número qualquer, criará uma lista contendo todos os números primos entre 1 e o número digitado."
   ]
  },
  {
   "cell_type": "code",
   "execution_count": 35,
   "id": "0bd1c2a8",
   "metadata": {},
   "outputs": [
    {
     "name": "stdout",
     "output_type": "stream",
     "text": [
      "Números primos entre 1 e 20: [2, 3, 5, 7, 11, 13, 17, 19]\n"
     ]
    }
   ],
   "source": [
    "lista_primos = []\n",
    "\n",
    "numeroQ5 = int(input(\"Insira o número: \"))\n",
    "\n",
    "for num in range(2, numeroQ5): \n",
    "        primo = True\n",
    "        \n",
    "        for divisor in range(2, num): \n",
    "            if num % divisor == 0:\n",
    "                primo = False\n",
    "                break\n",
    "            \n",
    "        if primo == True:\n",
    "            lista_primos.append(num)\n",
    "\n",
    "print(f\"Números primos entre 1 e {numeroQ5}: {lista_primos}\")"
   ]
  },
  {
   "cell_type": "markdown",
   "id": "61e1f93c",
   "metadata": {},
   "source": [
    "#### Questão 6\n",
    "Escreva um programa que peça uma data informando o dia, mês e ano e determine se ela é uma data válida para uma análise."
   ]
  },
  {
   "cell_type": "code",
   "execution_count": 6,
   "id": "279504e3",
   "metadata": {},
   "outputs": [
    {
     "name": "stdout",
     "output_type": "stream",
     "text": [
      "Data inserida: 01/10/2004\n",
      "Data válida!\n"
     ]
    }
   ],
   "source": [
    "from datetime import datetime\n",
    "\n",
    "dia = int(input(\"Dia: \"))\n",
    "mes = int(input(\"Mes: \"))\n",
    "ano = int(input(\"Ano: \"))\n",
    "\n",
    "\n",
    "data_formatada = datetime(ano, mes, dia).strftime(\"%d/%m/%Y\")\n",
    "print(f\"Data inserida: {data_formatada}\")\n",
    "\n",
    "if mes == 2:\n",
    "    if ano % 4 == 0 and (ano % 400 == 0 or ano % 100 != 0): #calculo de ano bissexto\n",
    "        dias_fevereiro = 29\n",
    "    else:\n",
    "        dias_fevereiro = 28\n",
    "    \n",
    "    if dia >= 1 and dia <= dias_fevereiro:\n",
    "        print(\"Data válida!\")\n",
    "    else:\n",
    "        print(\"Data inválida!\")\n",
    "elif mes in [4, 6, 9, 11]:\n",
    "    if dia >= 1 and dia <= 30:\n",
    "        print(\"Data válida!\")\n",
    "    else:\n",
    "        print(\"Data inválida!\")\n",
    "elif mes in [1, 3, 5, 7, 8, 10, 12]:\n",
    "    if dia >= 1 and dia <= 31:\n",
    "        print(\"Data válida!\")\n",
    "    else:\n",
    "        print(\"Data inválida!\")\n",
    "else:\n",
    "    print(\"Data inválida!\")"
   ]
  },
  {
   "cell_type": "markdown",
   "id": "a391f780",
   "metadata": {},
   "source": [
    "### Momento dos projetos"
   ]
  },
  {
   "cell_type": "markdown",
   "id": "880f5f13",
   "metadata": {},
   "source": [
    "#### Questão 7\n",
    "Para um estudo envolvendo o nível de multiplicação de bactérias em uma colônia, foi coletado o número de bactérias multiplicadas por dia, com base em um processo de duplicação diária e pode ser observado a seguir: `[1.2, 2.1, 3.3, 5.0, 7.8, 11.3, 16.6, 25.1, 37.8, 56.9]`. Tendo esses valores, faça um código que gere uma lista contendo o percentual de crescimento de bactérias por dia, comparando o número de bactérias em cada dia com o número de bactérias do dia anterior. Dica: para calcular o percentual de crescimento usamos a seguinte equação: `100 * (amostra_atual - amostra_passada) / (amostra_passada)`."
   ]
  },
  {
   "cell_type": "code",
   "execution_count": 1,
   "id": "e276e81a",
   "metadata": {},
   "outputs": [
    {
     "name": "stdout",
     "output_type": "stream",
     "text": [
      "Percentual de crescimento por dia: ['-8.33%', '+90.91%', '-4.76%', '+65.0%', '+51.52%', '+56.0%', '+44.87%', '+46.9%', '+51.2%', '+50.6%', '+50.53%']\n"
     ]
    }
   ],
   "source": [
    "# listaa\n",
    "bacterias = [1.2, 1.1, 2.1, 2.0, 3.3, 5.0, 7.8, 11.3, 16.6, 25.1, 37.8, 56.9]\n",
    "\n",
    "percentual_crescimento = []\n",
    "\n",
    "for i in range(1, len(bacterias)):\n",
    "    valor_anterior = bacterias[i - 1]\n",
    "    valor_atual = bacterias[i]\n",
    "    crescimento = (valor_atual - valor_anterior) / valor_anterior * 100\n",
    "    percentual_crescimento.append(crescimento)\n",
    "\n",
    "# 2 casas decimais\n",
    "percentual_arredondado = []\n",
    "for valor in percentual_crescimento:\n",
    "    valor_formatado = round(valor, 2)\n",
    "    percentual_arredondado.append(valor_formatado)\n",
    "\n",
    "# formatar % em cada valor\n",
    "percentual_com_sinal = []\n",
    "for valor in percentual_arredondado:\n",
    "    if valor >= 0:\n",
    "        percentual_formatado = \"+\" + str(valor) + \"%\"\n",
    "        percentual_com_sinal.append(percentual_formatado)\n",
    "    else:\n",
    "        percentual_formatado = str(valor) + \"%\"\n",
    "        percentual_com_sinal.append(percentual_formatado)\n",
    "\n",
    "## \n",
    "print(\"Percentual de crescimento por dia:\", percentual_com_sinal)\n"
   ]
  },
  {
   "cell_type": "markdown",
   "id": "0b802f34",
   "metadata": {},
   "source": [
    "#### Questão 8\n",
    "Para uma seleção de produtos alimentícios, precisamos separar o conjunto de IDs dados por números inteiros, sabendo que os produtos com ID par são doces e os com ID ímpar são amargos. Monte um código que colete 10 IDs. Depois, calcule e mostre a quantidade de produtos doces e amargos."
   ]
  },
  {
   "cell_type": "code",
   "execution_count": 17,
   "id": "871799cf",
   "metadata": {},
   "outputs": [
    {
     "name": "stdout",
     "output_type": "stream",
     "text": [
      "Digite um número, por favor.\n",
      "Digite um número, por favor.\n",
      "Digite um número positivo.\n",
      "Digite um número positivo.\n",
      "ID já inserido!\n",
      "ID já inserido!\n",
      "\n",
      "------- Relatório Geral -------\n",
      "\n",
      "Produtos doces: [12, 12354, 938, 1298419284, 9898132]\n",
      "Quantidade: 5\n",
      "\n",
      "Produtos Amargos: [1238123, 8347, 18273, 12837, 11]\n",
      "Quantidade: 5\n",
      "\n",
      "Quantidade Total: 10\n",
      "\n"
     ]
    }
   ],
   "source": [
    "lista_doces = []\n",
    "lista_amargos = []\n",
    "\n",
    "for i in range(1,11):\n",
    "    while True:\n",
    "        try:\n",
    "            id_produto = int(input(f\"Escreva o ID do produto {i}: \"))\n",
    "            \n",
    "            if id_produto <= 0:\n",
    "                print(\"Digite um número positivo.\")\n",
    "                continue\n",
    "            \n",
    "            if id_produto in lista_doces or id_produto in lista_amargos:\n",
    "                print(\"ID já inserido!\")\n",
    "                continue\n",
    "    \n",
    "            if id_produto % 2 == 0:\n",
    "                lista_doces.append(id_produto)\n",
    "            else:\n",
    "                lista_amargos.append(id_produto)\n",
    "            break\n",
    "        except ValueError:\n",
    "            print(\"Digite um número, por favor.\")\n",
    "\n",
    "print(f\"\"\"\\n------- Relatório Geral -------\\n\n",
    "Produtos doces: {lista_doces}\n",
    "Quantidade: {len(lista_doces)}\n",
    "\n",
    "Produtos Amargos: {lista_amargos}\n",
    "Quantidade: {len(lista_amargos)}\n",
    "\n",
    "Quantidade Total: {len(lista_amargos) + len(lista_doces)}\n",
    "\"\"\")\n"
   ]
  },
  {
   "cell_type": "markdown",
   "id": "ffb6f4af",
   "metadata": {},
   "source": [
    "#### Questão 9\n",
    "Desenvolva um programa que informa a nota de um aluno de acordo com suas respostas. Ele deve pedir a resposta de um aluno para cada questão e é preciso verificar se a resposta foi igual ao gabarito. Cada questão vale um ponto e existem alternativas:  A, B, C ou D.\n",
    "```\n",
    "Gabarito da Prova:\n",
    "01 - D\n",
    "02 - A\n",
    "03 - C\n",
    "04 - B\n",
    "05 - A\n",
    "06 - D\n",
    "07 - C\n",
    "08 - C\n",
    "09 - A\n",
    "10 - B\n",
    "```"
   ]
  },
  {
   "cell_type": "code",
   "execution_count": null,
   "id": "c7650f6a",
   "metadata": {},
   "outputs": [],
   "source": []
  },
  {
   "cell_type": "markdown",
   "id": "60704670",
   "metadata": {},
   "source": [
    "#### Questão 10\n",
    "Um instituto de meteorologia deseja fazer um estudo de temperatura média de cada mês do ano. Para isso, você precisa fazer um código que colete e armazene essas temperaturas médias em uma lista. Depois, calcule a média anual das temperaturas e mostre todas as temperaturas acima da média anual, e em que mês elas ocorreram, mostrando os meses por extenso: Janeiro, Fevereiro, etc."
   ]
  },
  {
   "cell_type": "code",
   "execution_count": null,
   "id": "58ec6fea",
   "metadata": {},
   "outputs": [],
   "source": []
  },
  {
   "cell_type": "markdown",
   "id": "118f9d56",
   "metadata": {},
   "source": [
    "#### Questão 11\n",
    "Uma empresa de e-commerce está interessada em analisar as vendas dos seus produtos. Os dados das vendas foram armazenados em um dicionário:\n",
    "```\n",
    "{'Produto A': 300, 'Produto B': 80, 'Produto C': 60,\n",
    " 'Produto D': 200, 'Produto E': 250, 'Produto F': 30}\n",
    "```\n",
    "Escreva um código que calcule o total de vendas e o produto mais vendido."
   ]
  },
  {
   "cell_type": "code",
   "execution_count": null,
   "id": "aa391df3",
   "metadata": {},
   "outputs": [],
   "source": []
  },
  {
   "cell_type": "markdown",
   "id": "43616fbe",
   "metadata": {},
   "source": [
    "#### Questão 12\n",
    "Uma pesquisa de mercado foi feita para decidir qual design de uma marca infantil mais agrada crianças. A pesquisa foi feita e o votos computados podem ser observados abaixo:\n",
    "```\n",
    "'''\n",
    "Tabela de votos da marca\n",
    "Design 1 - 1334 votos\n",
    "Design 2 - 982 votos\n",
    "Design 3 - 1751 votos\n",
    "Design 4 - 210 votos\n",
    "Design 5 - 1811 votos\n",
    "'''\n",
    "```\n",
    "Adapte os dados fornecidos a você para uma estrutura de dicionário e a partir dele, informe o design vencedor e a porcentagem de votos recebidos.\n"
   ]
  },
  {
   "cell_type": "code",
   "execution_count": null,
   "id": "d54aa886",
   "metadata": {},
   "outputs": [],
   "source": []
  },
  {
   "cell_type": "markdown",
   "id": "b713fd41",
   "metadata": {},
   "source": [
    "#### Questão 13\n",
    "Os funcionários de um setor da empresa que você trabalha vão receber um abono correspondente a 10% do seu salário devido ao ótimo desempenho do time. O setor financeiro solicitou sua ajuda para a verificação das consequências financeiras que esse abono irá gerar nos recursos. Assim, foi encaminhada para você uma lista com os salários que receberão o abono: `[1172, 1644, 2617, 5130, 5532, 6341, 6650, 7238, 7685, 7782, 7903]`. O abono de cada funcionário não pode ser inferior a 200. Em código, transforme cada um dos salários em chaves de um dicionário e o abono de cada salário no elemento. Depois, informe o total de gastos com o abono, quantos funcionários receberam o abono mínimo e qual o maior valor de abono fornecido.\n"
   ]
  },
  {
   "cell_type": "code",
   "execution_count": null,
   "id": "2ac40bc4",
   "metadata": {},
   "outputs": [],
   "source": []
  },
  {
   "cell_type": "markdown",
   "id": "02665c27",
   "metadata": {},
   "source": [
    "#### Questão 14\n",
    "Uma equipe de cientistas de dados está estudando a diversidade biológica em uma floresta. A equipe fez a coleta de informações sobre o número de espécies de plantas e animais em cada área da floresta e armazenaram essas informações em um dicionário. Nele, a chave descreve a área dos dados e os valores nas listas correspondem às espécies de plantas e animais nas áreas, respectivamente.\n",
    "```\n",
    "{'Área Norte': [2819, 7236],\n",
    " 'Área Leste': [1440, 9492],\n",
    " 'Área Sul': [5969, 7496],\n",
    " 'Área Oeste': [14446, 49688],\n",
    " 'Área Centro': [22558, 45148]}\n",
    "```\n",
    "Escreva um código para calcular a média de espécies por área e identificar a área com a maior diversidade biológica. Dica: use as funções built-in [`sum()`](https://docs.python.org/3/library/functions.html#sum) e [`len()`](https://docs.python.org/3/library/functions.html#len).\n"
   ]
  },
  {
   "cell_type": "code",
   "execution_count": null,
   "id": "84368142",
   "metadata": {},
   "outputs": [],
   "source": []
  },
  {
   "cell_type": "markdown",
   "id": "0e255d0b",
   "metadata": {},
   "source": [
    "#### Questão 15\n",
    "O setor de RH da sua empresa te pediu uma ajuda para analisar as idades dos funcionários de 4 setores da empresa. Para isso, ele te forneceu os seguintes dados:\n",
    "```\n",
    "{'Setor A': [22, 26, 30, 30, 35, 38, 40, 56, 57, 65],\n",
    " 'Setor B': [22, 24, 26, 33, 41, 49, 50, 54, 60, 64],\n",
    " 'Setor C': [23, 26, 26, 29, 34, 35, 36, 41, 52, 56],\n",
    " 'Setor D': [19, 20, 25, 27, 34, 39, 42, 44, 50, 65]}\n",
    "``` \n",
    "Sabendo que cada setor tem 10 funcionários, construa um código que calcule a média de idade de cada setor, a idade média geral entre todos os setores e quantas pessoas estão acima da idade média geral.\n"
   ]
  },
  {
   "cell_type": "code",
   "execution_count": null,
   "id": "6d9b3eaf",
   "metadata": {},
   "outputs": [],
   "source": []
  }
 ],
 "metadata": {
  "kernelspec": {
   "display_name": ".venv",
   "language": "python",
   "name": "python3"
  },
  "language_info": {
   "codemirror_mode": {
    "name": "ipython",
    "version": 3
   },
   "file_extension": ".py",
   "mimetype": "text/x-python",
   "name": "python",
   "nbconvert_exporter": "python",
   "pygments_lexer": "ipython3",
   "version": "3.13.2"
  }
 },
 "nbformat": 4,
 "nbformat_minor": 5
}
